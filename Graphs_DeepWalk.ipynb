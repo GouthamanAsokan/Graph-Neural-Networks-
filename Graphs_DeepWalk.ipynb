{
  "nbformat": 4,
  "nbformat_minor": 0,
  "metadata": {
    "colab": {
      "name": "Graphs_DeepWalk.ipynb",
      "provenance": []
    },
    "kernelspec": {
      "name": "python3",
      "display_name": "Python 3"
    }
  },
  "cells": [
    {
      "cell_type": "code",
      "metadata": {
        "id": "uW-8RVc2JsVX",
        "colab_type": "code",
        "colab": {}
      },
      "source": [
        "#Importing the libraries\n",
        "import networkx as nx\n",
        "import pandas as pd\n",
        "import numpy as np\n",
        "import random\n",
        "from tqdm import tqdm\n",
        "from sklearn.decomposition import PCA\n",
        "\n",
        "import matplotlib.pyplot as plt\n",
        "%matplotlib inline"
      ],
      "execution_count": 1,
      "outputs": []
    },
    {
      "cell_type": "code",
      "metadata": {
        "id": "0gQDGnAVKm8C",
        "colab_type": "code",
        "colab": {
          "base_uri": "https://localhost:8080/",
          "height": 204
        },
        "outputId": "de719775-7790-40aa-ffa2-e2f4c901ac59"
      },
      "source": [
        "#Importing the file\n",
        "df = pd.read_csv(\"/content/drive/My Drive/Graph_Neural_Networks/seealsology-data.tsv\", sep = \"\\t\")\n",
        "df.head()"
      ],
      "execution_count": 2,
      "outputs": [
        {
          "output_type": "execute_result",
          "data": {
            "text/html": [
              "<div>\n",
              "<style scoped>\n",
              "    .dataframe tbody tr th:only-of-type {\n",
              "        vertical-align: middle;\n",
              "    }\n",
              "\n",
              "    .dataframe tbody tr th {\n",
              "        vertical-align: top;\n",
              "    }\n",
              "\n",
              "    .dataframe thead th {\n",
              "        text-align: right;\n",
              "    }\n",
              "</style>\n",
              "<table border=\"1\" class=\"dataframe\">\n",
              "  <thead>\n",
              "    <tr style=\"text-align: right;\">\n",
              "      <th></th>\n",
              "      <th>source</th>\n",
              "      <th>target</th>\n",
              "      <th>depth</th>\n",
              "    </tr>\n",
              "  </thead>\n",
              "  <tbody>\n",
              "    <tr>\n",
              "      <th>0</th>\n",
              "      <td>space research</td>\n",
              "      <td>advances in space research</td>\n",
              "      <td>1</td>\n",
              "    </tr>\n",
              "    <tr>\n",
              "      <th>1</th>\n",
              "      <td>space research</td>\n",
              "      <td>benefits of space exploration</td>\n",
              "      <td>1</td>\n",
              "    </tr>\n",
              "    <tr>\n",
              "      <th>2</th>\n",
              "      <td>space research</td>\n",
              "      <td>committee on space research</td>\n",
              "      <td>1</td>\n",
              "    </tr>\n",
              "    <tr>\n",
              "      <th>3</th>\n",
              "      <td>space research</td>\n",
              "      <td>deep space exploration</td>\n",
              "      <td>1</td>\n",
              "    </tr>\n",
              "    <tr>\n",
              "      <th>4</th>\n",
              "      <td>space research</td>\n",
              "      <td>lists of space programs</td>\n",
              "      <td>1</td>\n",
              "    </tr>\n",
              "  </tbody>\n",
              "</table>\n",
              "</div>"
            ],
            "text/plain": [
              "           source                         target  depth\n",
              "0  space research     advances in space research      1\n",
              "1  space research  benefits of space exploration      1\n",
              "2  space research    committee on space research      1\n",
              "3  space research         deep space exploration      1\n",
              "4  space research        lists of space programs      1"
            ]
          },
          "metadata": {
            "tags": []
          },
          "execution_count": 2
        }
      ]
    },
    {
      "cell_type": "code",
      "metadata": {
        "id": "MdpdNtn2K6Jp",
        "colab_type": "code",
        "colab": {}
      },
      "source": [
        "#Constructing the graph\n",
        "G = nx.from_pandas_edgelist(df, \"source\", \"target\", edge_attr=True, create_using=nx.Graph())"
      ],
      "execution_count": 3,
      "outputs": []
    },
    {
      "cell_type": "code",
      "metadata": {
        "id": "7TmDm2xrK9nL",
        "colab_type": "code",
        "colab": {
          "base_uri": "https://localhost:8080/",
          "height": 34
        },
        "outputId": "e000cb47-3d40-4b16-f60c-ef7a8bccd4f0"
      },
      "source": [
        "len(G)"
      ],
      "execution_count": 4,
      "outputs": [
        {
          "output_type": "execute_result",
          "data": {
            "text/plain": [
              "460"
            ]
          },
          "metadata": {
            "tags": []
          },
          "execution_count": 4
        }
      ]
    },
    {
      "cell_type": "code",
      "metadata": {
        "id": "H_KFWUjzLApZ",
        "colab_type": "code",
        "colab": {}
      },
      "source": [
        "#random walk\n",
        "def get_randomwalk(node, path_length):\n",
        "    \n",
        "    random_walk = [node]\n",
        "    \n",
        "    for i in range(path_length-1):\n",
        "        temp = list(G.neighbors(node))\n",
        "        temp = list(set(temp) - set(random_walk))    \n",
        "        if len(temp) == 0:\n",
        "            break\n",
        "\n",
        "        random_node = random.choice(temp)\n",
        "        random_walk.append(random_node)\n",
        "        node = random_node\n",
        "        \n",
        "    return random_walk"
      ],
      "execution_count": 5,
      "outputs": []
    },
    {
      "cell_type": "code",
      "metadata": {
        "id": "GIeFHYYkLJb1",
        "colab_type": "code",
        "colab": {
          "base_uri": "https://localhost:8080/",
          "height": 102
        },
        "outputId": "0d2c6035-b978-4a53-a217-b4a791887c16"
      },
      "source": [
        "get_randomwalk('space exploration', 10)"
      ],
      "execution_count": 6,
      "outputs": [
        {
          "output_type": "execute_result",
          "data": {
            "text/plain": [
              "['space exploration',\n",
              " 'in-space propulsion technologies',\n",
              " 'orbital mechanics',\n",
              " 'space science',\n",
              " 'remote sensing']"
            ]
          },
          "metadata": {
            "tags": []
          },
          "execution_count": 6
        }
      ]
    },
    {
      "cell_type": "code",
      "metadata": {
        "id": "mix7QTPWLQ2X",
        "colab_type": "code",
        "colab": {
          "base_uri": "https://localhost:8080/",
          "height": 51
        },
        "outputId": "bbb91f39-599e-4848-e327-c4bff6180961"
      },
      "source": [
        "# get list of all nodes from the graph\n",
        "all_nodes = list(G.nodes())\n",
        "\n",
        "random_walks = []\n",
        "for n in tqdm(all_nodes):\n",
        "    for i in range(5):\n",
        "        random_walks.append(get_randomwalk(n,10))\n",
        "        \n",
        "# count of sequences\n",
        "len(random_walks)"
      ],
      "execution_count": 7,
      "outputs": [
        {
          "output_type": "stream",
          "text": [
            "100%|██████████| 460/460 [00:00<00:00, 11228.23it/s]\n"
          ],
          "name": "stderr"
        },
        {
          "output_type": "execute_result",
          "data": {
            "text/plain": [
              "2300"
            ]
          },
          "metadata": {
            "tags": []
          },
          "execution_count": 7
        }
      ]
    },
    {
      "cell_type": "code",
      "metadata": {
        "id": "iNlV1HGMLYST",
        "colab_type": "code",
        "colab": {}
      },
      "source": [
        "from gensim.models import Word2Vec\n",
        "\n",
        "import warnings\n",
        "warnings.filterwarnings('ignore')"
      ],
      "execution_count": 8,
      "outputs": []
    },
    {
      "cell_type": "code",
      "metadata": {
        "id": "iSuW3BFBLh7Y",
        "colab_type": "code",
        "colab": {
          "base_uri": "https://localhost:8080/",
          "height": 34
        },
        "outputId": "5eb73655-00cc-4634-d10f-4d9c82207db1"
      },
      "source": [
        "#Deepwalk\n",
        "# train skip-gram (word2vec) model\n",
        "model = Word2Vec(window = 4, sg = 1, hs = 0,\n",
        "                 negative = 10, # for negative sampling\n",
        "                 alpha=0.03, min_alpha=0.0007,\n",
        "                 seed = 14)\n",
        "\n",
        "model.build_vocab(random_walks, progress_per=2)\n",
        "\n",
        "model.train(random_walks, total_examples = model.corpus_count, epochs=20, report_delay=1)"
      ],
      "execution_count": 9,
      "outputs": [
        {
          "output_type": "execute_result",
          "data": {
            "text/plain": [
              "(154254, 213560)"
            ]
          },
          "metadata": {
            "tags": []
          },
          "execution_count": 9
        }
      ]
    },
    {
      "cell_type": "code",
      "metadata": {
        "id": "YSbUwPE3LodY",
        "colab_type": "code",
        "colab": {
          "base_uri": "https://localhost:8080/",
          "height": 187
        },
        "outputId": "a25cb36e-59ce-438b-ed82-f3f41842ba90"
      },
      "source": [
        "model.similar_by_word('space tourism')"
      ],
      "execution_count": 10,
      "outputs": [
        {
          "output_type": "execute_result",
          "data": {
            "text/plain": [
              "[('space flight participant', 0.9367335438728333),\n",
              " ('private spaceflight', 0.8695685267448425),\n",
              " ('pilot certification in the united states', 0.8598122596740723),\n",
              " ('space adventures', 0.8492832779884338),\n",
              " ('planetary surface construction', 0.8257327675819397),\n",
              " ('space architecture', 0.8196397423744202),\n",
              " ('shackleton energy company', 0.8188965320587158),\n",
              " ('commercial astronaut', 0.8147873282432556),\n",
              " ('commercialization of space', 0.811168909072876),\n",
              " ('spome', 0.7954761981964111)]"
            ]
          },
          "metadata": {
            "tags": []
          },
          "execution_count": 10
        }
      ]
    },
    {
      "cell_type": "code",
      "metadata": {
        "id": "Nj1p3ULyL1m_",
        "colab_type": "code",
        "colab": {}
      },
      "source": [
        "#plotting the embeddings in the 2d space\n",
        "terms = ['lunar escape systems', 'soyuz 7k-l1', \n",
        "         'moon landing','space food', 'food systems on space exploration missions', \n",
        "         'space law', 'metalaw', 'moon treaty', \n",
        "          'reduced-gravity aircraft', \n",
        "          ]"
      ],
      "execution_count": 24,
      "outputs": []
    },
    {
      "cell_type": "code",
      "metadata": {
        "id": "AuXp5cI3L8R8",
        "colab_type": "code",
        "colab": {}
      },
      "source": [
        "def plot_nodes(word_list):\n",
        "    X = model[word_list]\n",
        "    \n",
        "    # reduce dimensions to 2\n",
        "    pca = PCA(n_components=2)\n",
        "    result = pca.fit_transform(X)\n",
        "    \n",
        "    \n",
        "    plt.figure(figsize=(12,9))\n",
        "    # create a scatter plot of the projection\n",
        "    plt.scatter(result[:, 0], result[:, 1])\n",
        "    for i, word in enumerate(word_list):\n",
        "        plt.annotate(word, xy=(result[i, 0], result[i, 1]))\n",
        "        \n",
        "    plt.show()"
      ],
      "execution_count": 12,
      "outputs": []
    },
    {
      "cell_type": "code",
      "metadata": {
        "id": "4qPvXErnMAme",
        "colab_type": "code",
        "colab": {
          "base_uri": "https://localhost:8080/",
          "height": 537
        },
        "outputId": "da6e88c4-4135-439a-c684-a30cb46dea55"
      },
      "source": [
        "plot_nodes(terms)"
      ],
      "execution_count": 25,
      "outputs": [
        {
          "output_type": "display_data",
          "data": {
            "image/png": "[encoded data removed]",
            "text/plain": [
              "<Figure size 864x648 with 1 Axes>"
            ]
          },
          "metadata": {
            "tags": [],
            "needs_background": "light"
          }
        }
      ]
    }
  ]
}