{
  "nbformat": 4,
  "nbformat_minor": 0,
  "metadata": {
    "colab": {
      "name": "Relational_GCN_Heterogeneous_Graphs.ipynb",
      "provenance": [],
      "collapsed_sections": []
    },
    "kernelspec": {
      "name": "python3",
      "display_name": "Python 3"
    }
  },
  "cells": [
    {
      "cell_type": "code",
      "metadata": {
        "id": "z0osEfTxv0zv",
        "colab_type": "code",
        "outputId": "e4a8a6e1-3a16-4369-c050-6c3f8c8a3896",
        "colab": {
          "base_uri": "https://localhost:8080/",
          "height": 275
        }
      },
      "source": [
        "!pip install dgl"
      ],
      "execution_count": 0,
      "outputs": [
        {
          "output_type": "stream",
          "text": [
            "Collecting dgl\n",
            "\u001b[?25l  Downloading https://files.pythonhosted.org/packages/c5/b4/84e4ebd70ef3985181ef5d2d2a366a45af0e3cd18d249fb212ac03f683cf/dgl-0.4.3.post2-cp36-cp36m-manylinux1_x86_64.whl (3.0MB)\n",
            "\u001b[K     |████████████████████████████████| 3.0MB 2.8MB/s \n",
            "\u001b[?25hRequirement already satisfied: requests>=2.19.0 in /usr/local/lib/python3.6/dist-packages (from dgl) (2.23.0)\n",
            "Requirement already satisfied: scipy>=1.1.0 in /usr/local/lib/python3.6/dist-packages (from dgl) (1.4.1)\n",
            "Requirement already satisfied: numpy>=1.14.0 in /usr/local/lib/python3.6/dist-packages (from dgl) (1.18.4)\n",
            "Requirement already satisfied: networkx>=2.1 in /usr/local/lib/python3.6/dist-packages (from dgl) (2.4)\n",
            "Requirement already satisfied: chardet<4,>=3.0.2 in /usr/local/lib/python3.6/dist-packages (from requests>=2.19.0->dgl) (3.0.4)\n",
            "Requirement already satisfied: certifi>=2017.4.17 in /usr/local/lib/python3.6/dist-packages (from requests>=2.19.0->dgl) (2020.4.5.1)\n",
            "Requirement already satisfied: urllib3!=1.25.0,!=1.25.1,<1.26,>=1.21.1 in /usr/local/lib/python3.6/dist-packages (from requests>=2.19.0->dgl) (1.24.3)\n",
            "Requirement already satisfied: idna<3,>=2.5 in /usr/local/lib/python3.6/dist-packages (from requests>=2.19.0->dgl) (2.9)\n",
            "Requirement already satisfied: decorator>=4.3.0 in /usr/local/lib/python3.6/dist-packages (from networkx>=2.1->dgl) (4.4.2)\n",
            "Installing collected packages: dgl\n",
            "Successfully installed dgl-0.4.3.post2\n"
          ],
          "name": "stdout"
        }
      ]
    },
    {
      "cell_type": "code",
      "metadata": {
        "id": "EI0lEd2PwYRD",
        "colab_type": "code",
        "outputId": "5676210d-bd84-41a4-c371-01cbacca4ef0",
        "colab": {
          "base_uri": "https://localhost:8080/",
          "height": 54
        }
      },
      "source": [
        "#Manipulating heterogeneous graph\n",
        "import dgl\n",
        "import scipy.io\n",
        "import urllib.request\n",
        "\n",
        "data_url = 'https://data.dgl.ai/dataset/ACM.mat'\n",
        "data_file_path = '/tmp/ACM.mat'\n",
        "\n",
        "urllib.request.urlretrieve(data_url, data_file_path)\n",
        "data = scipy.io.loadmat(data_file_path)\n",
        "print(list(data.keys()))"
      ],
      "execution_count": 0,
      "outputs": [
        {
          "output_type": "stream",
          "text": [
            "['__header__', '__version__', '__globals__', 'TvsP', 'PvsA', 'PvsV', 'AvsF', 'VvsC', 'PvsL', 'PvsC', 'A', 'C', 'F', 'L', 'P', 'T', 'V', 'PvsT', 'CNormPvsA', 'RNormPvsA', 'CNormPvsC', 'RNormPvsC', 'CNormPvsT', 'RNormPvsT', 'CNormPvsV', 'RNormPvsV', 'CNormVvsC', 'RNormVvsC', 'CNormAvsF', 'RNormAvsF', 'CNormPvsL', 'RNormPvsL', 'stopwords', 'nPvsT', 'nT', 'CNormnPvsT', 'RNormnPvsT', 'nnPvsT', 'nnT', 'CNormnnPvsT', 'RNormnnPvsT', 'PvsP', 'CNormPvsP', 'RNormPvsP']\n"
          ],
          "name": "stdout"
        }
      ]
    },
    {
      "cell_type": "code",
      "metadata": {
        "id": "ECs_ie1twjlI",
        "colab_type": "code",
        "outputId": "e70647aa-4a39-4216-8504-d1a01003870a",
        "colab": {
          "base_uri": "https://localhost:8080/",
          "height": 85
        }
      },
      "source": [
        "print(type(data['PvsA']))\n",
        "print('#Papers:', data['PvsA'].shape[0])\n",
        "print('#Authors:', data['PvsA'].shape[1])\n",
        "print('#Links:', data['PvsA'].nnz)"
      ],
      "execution_count": 0,
      "outputs": [
        {
          "output_type": "stream",
          "text": [
            "<class 'scipy.sparse.csc.csc_matrix'>\n",
            "#Papers: 12499\n",
            "#Authors: 17431\n",
            "#Links: 37055\n"
          ],
          "name": "stdout"
        }
      ]
    },
    {
      "cell_type": "code",
      "metadata": {
        "id": "m8EElxmIwynn",
        "colab_type": "code",
        "colab": {}
      },
      "source": [
        "#scipy matrix to heterogeneous graph\n",
        "pa_g = dgl.heterograph({('paper', 'written-by', 'author') : data['PvsA']})\n",
        "# equivalent (shorter) API for creating heterograph with two node types:\n",
        "pa_g = dgl.bipartite(data['PvsA'], 'paper', 'written-by', 'author')"
      ],
      "execution_count": 0,
      "outputs": []
    },
    {
      "cell_type": "code",
      "metadata": {
        "id": "5oHLM5jyxKzj",
        "colab_type": "code",
        "outputId": "2330529b-ef2b-4107-e37b-dbe1b9e14a7f",
        "colab": {
          "base_uri": "https://localhost:8080/",
          "height": 68
        }
      },
      "source": [
        "print('Node types:', pa_g.ntypes)\n",
        "print('Edge types:', pa_g.etypes)\n",
        "print('Canonical edge types:', pa_g.canonical_etypes)"
      ],
      "execution_count": 0,
      "outputs": [
        {
          "output_type": "stream",
          "text": [
            "Node types: ['paper', 'author']\n",
            "Edge types: ['written-by']\n",
            "Canonical edge types: [('paper', 'written-by', 'author')]\n"
          ],
          "name": "stdout"
        }
      ]
    },
    {
      "cell_type": "code",
      "metadata": {
        "id": "kF4uOuxCxRO1",
        "colab_type": "code",
        "outputId": "c16e56ac-4fa9-4e26-fc3c-2bef337fbe55",
        "colab": {
          "base_uri": "https://localhost:8080/",
          "height": 34
        }
      },
      "source": [
        "print(pa_g.number_of_nodes('paper'))"
      ],
      "execution_count": 0,
      "outputs": [
        {
          "output_type": "stream",
          "text": [
            "12499\n"
          ],
          "name": "stdout"
        }
      ]
    },
    {
      "cell_type": "code",
      "metadata": {
        "id": "zzn42Cg-xYa7",
        "colab_type": "code",
        "outputId": "6263a8b3-eb1f-4a1c-eba8-97e8593403cb",
        "colab": {
          "base_uri": "https://localhost:8080/",
          "height": 34
        }
      },
      "source": [
        "print(pa_g.number_of_edges(('paper', 'written-by', 'author')))"
      ],
      "execution_count": 0,
      "outputs": [
        {
          "output_type": "stream",
          "text": [
            "37055\n"
          ],
          "name": "stdout"
        }
      ]
    },
    {
      "cell_type": "code",
      "metadata": {
        "id": "Uxh-pqpjxqxD",
        "colab_type": "code",
        "colab": {}
      },
      "source": [
        "# Paper-citing-paper graph is a homogeneous graph\n",
        "pp_g = dgl.heterograph({('paper', 'citing', 'paper') : data['PvsP']})"
      ],
      "execution_count": 0,
      "outputs": []
    },
    {
      "cell_type": "code",
      "metadata": {
        "id": "Ch98dSXPxzLd",
        "colab_type": "code",
        "colab": {}
      },
      "source": [
        "# equivalent (shorter) API for creating homogeneous graph\n",
        "pp_g = dgl.graph(data['PvsP'], 'paper', 'cite')"
      ],
      "execution_count": 0,
      "outputs": []
    },
    {
      "cell_type": "code",
      "metadata": {
        "id": "Gk1hBy0qx2nF",
        "colab_type": "code",
        "outputId": "c8972fa0-10b2-49ef-8d83-2d41c39e429a",
        "colab": {
          "base_uri": "https://localhost:8080/",
          "height": 68
        }
      },
      "source": [
        "# All the ntype and etype arguments could be omitted because the behavior is unambiguous.\n",
        "print(pp_g.number_of_nodes())\n",
        "print(pp_g.number_of_edges())\n",
        "print(pp_g.successors(3))"
      ],
      "execution_count": 0,
      "outputs": [
        {
          "output_type": "stream",
          "text": [
            "12499\n",
            "30789\n",
            "tensor([1361, 2624, 8670, 9845])\n"
          ],
          "name": "stdout"
        }
      ]
    },
    {
      "cell_type": "code",
      "metadata": {
        "id": "6IZS-b-Jx89u",
        "colab_type": "code",
        "outputId": "651e44e3-1316-450f-a57a-923f7ec8b779",
        "colab": {
          "base_uri": "https://localhost:8080/",
          "height": 88
        }
      },
      "source": [
        "G = dgl.heterograph({\n",
        "        ('paper', 'written-by', 'author') : data['PvsA'],\n",
        "        ('author', 'writing', 'paper') : data['PvsA'].transpose(),\n",
        "        ('paper', 'citing', 'paper') : data['PvsP'],\n",
        "        ('paper', 'cited', 'paper') : data['PvsP'].transpose(),\n",
        "        ('paper', 'is-about', 'subject') : data['PvsL'],\n",
        "        ('subject', 'has', 'paper') : data['PvsL'].transpose(),\n",
        "        ('paper', 'published-in', 'conference') : data['PvsC']\n",
        "    })\n",
        "\n",
        "print(G)"
      ],
      "execution_count": 0,
      "outputs": [
        {
          "output_type": "stream",
          "text": [
            "Graph(num_nodes={'author': 17431, 'conference': 14, 'paper': 12499, 'subject': 73},\n",
            "      num_edges={('paper', 'written-by', 'author'): 37055, ('author', 'writing', 'paper'): 37055, ('paper', 'citing', 'paper'): 30789, ('paper', 'cited', 'paper'): 30789, ('paper', 'is-about', 'subject'): 12499, ('subject', 'has', 'paper'): 12499, ('paper', 'published-in', 'conference'): 12499},\n",
            "      metagraph=[('author', 'paper'), ('paper', 'author'), ('paper', 'paper'), ('paper', 'paper'), ('paper', 'subject'), ('paper', 'conference'), ('subject', 'paper')])\n"
          ],
          "name": "stdout"
        }
      ]
    },
    {
      "cell_type": "code",
      "metadata": {
        "id": "_bgYsngJzl_V",
        "colab_type": "code",
        "colab": {}
      },
      "source": [
        "import numpy as np\n",
        "import torch\n",
        "import torch.nn as nn\n",
        "import torch.nn.functional as F\n",
        "\n",
        "pvc = data['PvsC'].tocsr()\n",
        "# find all papers published in KDD, ICML, VLDB\n",
        "c_selected = [0, 11, 13]  # KDD, ICML, VLDB\n",
        "p_selected = pvc[:, c_selected].tocoo()\n",
        "# generate labels\n",
        "labels = pvc.indices\n",
        "labels[labels == 11] = 1\n",
        "labels[labels == 13] = 2\n",
        "labels = torch.tensor(labels).long()\n",
        "\n",
        "# generate train/val/test split\n",
        "pid = p_selected.row\n",
        "shuffle = np.random.permutation(pid)\n",
        "train_idx = torch.tensor(shuffle[0:800]).long()\n",
        "val_idx = torch.tensor(shuffle[800:900]).long()\n",
        "test_idx = torch.tensor(shuffle[900:]).long()"
      ],
      "execution_count": 0,
      "outputs": []
    },
    {
      "cell_type": "code",
      "metadata": {
        "id": "7QQ9fHZK_FgY",
        "colab_type": "code",
        "outputId": "8451e90a-0d85-4f3b-f823-cc51ba631279",
        "colab": {
          "base_uri": "https://localhost:8080/",
          "height": 34
        }
      },
      "source": [
        "G.ntypes"
      ],
      "execution_count": 0,
      "outputs": [
        {
          "output_type": "execute_result",
          "data": {
            "text/plain": [
              "['author', 'conference', 'paper', 'subject']"
            ]
          },
          "metadata": {
            "tags": []
          },
          "execution_count": 17
        }
      ]
    },
    {
      "cell_type": "code",
      "metadata": {
        "id": "reSTa2cI37N9",
        "colab_type": "code",
        "outputId": "66a7c3cf-23f1-495d-9325-cb17672a4643",
        "colab": {
          "base_uri": "https://localhost:8080/",
          "height": 34
        }
      },
      "source": [
        "G.number_of_nodes('author')"
      ],
      "execution_count": 0,
      "outputs": [
        {
          "output_type": "execute_result",
          "data": {
            "text/plain": [
              "17431"
            ]
          },
          "metadata": {
            "tags": []
          },
          "execution_count": 18
        }
      ]
    },
    {
      "cell_type": "code",
      "metadata": {
        "id": "2GYyqP-__XuG",
        "colab_type": "code",
        "outputId": "a5354b82-f7bb-4e5f-9edf-fa8cd1560483",
        "colab": {
          "base_uri": "https://localhost:8080/",
          "height": 153
        }
      },
      "source": [
        "nn.Parameter(torch.Tensor(G.number_of_nodes('author'), 10))"
      ],
      "execution_count": 0,
      "outputs": [
        {
          "output_type": "execute_result",
          "data": {
            "text/plain": [
              "Parameter containing:\n",
              "tensor([[0., 0., 0.,  ..., 0., 0., 0.],\n",
              "        [0., 0., 0.,  ..., 0., 0., 0.],\n",
              "        [0., 0., 0.,  ..., 0., 0., 0.],\n",
              "        ...,\n",
              "        [0., 0., 0.,  ..., 0., 0., 0.],\n",
              "        [0., 0., 0.,  ..., 0., 0., 0.],\n",
              "        [0., 0., 0.,  ..., 0., 0., 0.]], requires_grad=True)"
            ]
          },
          "metadata": {
            "tags": []
          },
          "execution_count": 19
        }
      ]
    },
    {
      "cell_type": "code",
      "metadata": {
        "id": "qwkThprdztIr",
        "colab_type": "code",
        "colab": {}
      },
      "source": [
        "import dgl.function as fn\n",
        "\n",
        "class HeteroRGCNLayer(nn.Module):\n",
        "    def __init__(self, in_size, out_size, etypes):\n",
        "        super(HeteroRGCNLayer, self).__init__()\n",
        "        # W_r for each relation\n",
        "        #seperate weight relations are formed for each of the edge types-'written-by', 'writing', 'citing', 'cited', 'is-about', 'has', 'published-in'\n",
        "        self.weight = nn.ModuleDict({\n",
        "                name : nn.Linear(in_size, out_size) for name in etypes\n",
        "            })\n",
        "\n",
        "    def forward(self, G, feat_dict):\n",
        "        # The input is a dictionary of node features for each type\n",
        "        funcs = {}\n",
        "        for srctype, etype, dsttype in G.canonical_etypes:\n",
        "            # Compute W_r * h\n",
        "            #self.weight['written-by'](feat_dict['paper'])\n",
        "            Wh = self.weight[etype](feat_dict[srctype])\n",
        "            # Save it in graph for message passing\n",
        "            #G.nodes['subject'].data['Wh_has']\n",
        "            G.nodes[srctype].data['Wh_%s' % etype] = Wh\n",
        "            # Specify per-relation message passing functions: (message_func, reduce_func).\n",
        "            # Note that the results are saved to the same destination feature 'h', which\n",
        "            # hints the type wise reducer for aggregation.\n",
        "            funcs[etype] = (fn.copy_u('Wh_%s' % etype, 'm'), fn.mean('m', 'h'))\n",
        "        # Trigger message passing of multiple types.\n",
        "        # The first argument is the message passing functions for each relation.\n",
        "        # The second one is the type wise reducer, could be \"sum\", \"max\",\n",
        "        # \"min\", \"mean\", \"stack\"\n",
        "        G.multi_update_all(funcs, 'sum')\n",
        "        # return the updated node feature dictionary\n",
        "        return {ntype : G.nodes[ntype].data['h'] for ntype in G.ntypes}"
      ],
      "execution_count": 0,
      "outputs": []
    },
    {
      "cell_type": "code",
      "metadata": {
        "id": "Bxat2ng1ykIP",
        "colab_type": "code",
        "outputId": "ae2c6371-8a5d-4f1b-bd45-c668db0cf581",
        "colab": {
          "base_uri": "https://localhost:8080/",
          "height": 136
        }
      },
      "source": [
        "G.canonical_etypes"
      ],
      "execution_count": 0,
      "outputs": [
        {
          "output_type": "execute_result",
          "data": {
            "text/plain": [
              "[('paper', 'written-by', 'author'),\n",
              " ('author', 'writing', 'paper'),\n",
              " ('paper', 'citing', 'paper'),\n",
              " ('paper', 'cited', 'paper'),\n",
              " ('paper', 'is-about', 'subject'),\n",
              " ('subject', 'has', 'paper'),\n",
              " ('paper', 'published-in', 'conference')]"
            ]
          },
          "metadata": {
            "tags": []
          },
          "execution_count": 27
        }
      ]
    },
    {
      "cell_type": "code",
      "metadata": {
        "id": "ZLh37Zy_h2TR",
        "colab_type": "code",
        "outputId": "5822b77d-ef19-42d4-f0db-e38d661573b6",
        "colab": {
          "base_uri": "https://localhost:8080/",
          "height": 204
        }
      },
      "source": [
        "HeteroRGCNLayer(10,10,G.etypes)"
      ],
      "execution_count": 0,
      "outputs": [
        {
          "output_type": "execute_result",
          "data": {
            "text/plain": [
              "HeteroRGCNLayer(\n",
              "  (weight): ModuleDict(\n",
              "    (cited): Linear(in_features=10, out_features=10, bias=True)\n",
              "    (citing): Linear(in_features=10, out_features=10, bias=True)\n",
              "    (has): Linear(in_features=10, out_features=10, bias=True)\n",
              "    (is-about): Linear(in_features=10, out_features=10, bias=True)\n",
              "    (published-in): Linear(in_features=10, out_features=10, bias=True)\n",
              "    (writing): Linear(in_features=10, out_features=10, bias=True)\n",
              "    (written-by): Linear(in_features=10, out_features=10, bias=True)\n",
              "  )\n",
              ")"
            ]
          },
          "metadata": {
            "tags": []
          },
          "execution_count": 21
        }
      ]
    },
    {
      "cell_type": "code",
      "metadata": {
        "id": "Zz68A_gmzyKg",
        "colab_type": "code",
        "colab": {}
      },
      "source": [
        "class HeteroRGCN(nn.Module):\n",
        "    def __init__(self, G, in_size, hidden_size, out_size):\n",
        "        super(HeteroRGCN, self).__init__()\n",
        "        # Use trainable node embeddings as featureless inputs.\n",
        "        embed_dict = {ntype : nn.Parameter(torch.Tensor(G.number_of_nodes(ntype), in_size))\n",
        "                      for ntype in G.ntypes}\n",
        "        for key, embed in embed_dict.items():\n",
        "            nn.init.xavier_uniform_(embed)\n",
        "        self.embed = nn.ParameterDict(embed_dict)\n",
        "        # create layers\n",
        "        self.layer1 = HeteroRGCNLayer(in_size, hidden_size, G.etypes)\n",
        "        self.layer2 = HeteroRGCNLayer(hidden_size, out_size, G.etypes)\n",
        "\n",
        "    def forward(self, G):\n",
        "        h_dict = self.layer1(G, self.embed)\n",
        "        h_dict = {k : F.leaky_relu(h) for k, h in h_dict.items()}\n",
        "        h_dict = self.layer2(G, h_dict)\n",
        "        # get paper logits\n",
        "        return h_dict['paper']"
      ],
      "execution_count": 0,
      "outputs": []
    },
    {
      "cell_type": "code",
      "metadata": {
        "id": "SVjlMrbomoQ0",
        "colab_type": "code",
        "outputId": "c898bdd5-df74-4c2b-ec68-3ce534770112",
        "colab": {
          "base_uri": "https://localhost:8080/",
          "height": 34
        }
      },
      "source": [
        "G.ntypes"
      ],
      "execution_count": 0,
      "outputs": [
        {
          "output_type": "execute_result",
          "data": {
            "text/plain": [
              "['author', 'conference', 'paper', 'subject']"
            ]
          },
          "metadata": {
            "tags": []
          },
          "execution_count": 23
        }
      ]
    },
    {
      "cell_type": "code",
      "metadata": {
        "id": "cvkB8KDri3gw",
        "colab_type": "code",
        "colab": {}
      },
      "source": [
        "# Create the model. The output has three logits for three classes.\n",
        "model = HeteroRGCN(G, 10, 10, 3)"
      ],
      "execution_count": 0,
      "outputs": []
    },
    {
      "cell_type": "code",
      "metadata": {
        "id": "O8W4mhKjz3RM",
        "colab_type": "code",
        "outputId": "a3871351-3999-4650-a490-6b450b66f950",
        "colab": {
          "base_uri": "https://localhost:8080/",
          "height": 357
        }
      },
      "source": [
        "# Create the model. The output has three logits for three classes.\n",
        "model = HeteroRGCN(G, 10, 10, 3)\n",
        "\n",
        "opt = torch.optim.Adam(model.parameters(), lr=0.01, weight_decay=5e-4)\n",
        "\n",
        "best_val_acc = 0\n",
        "best_test_acc = 0\n",
        "\n",
        "for epoch in range(100):\n",
        "    logits = model(G)\n",
        "    # The loss is computed only for labeled nodes.\n",
        "    loss = F.cross_entropy(logits[train_idx], labels[train_idx])\n",
        "\n",
        "    pred = logits.argmax(1)\n",
        "    train_acc = (pred[train_idx] == labels[train_idx]).float().mean()\n",
        "    val_acc = (pred[val_idx] == labels[val_idx]).float().mean()\n",
        "    test_acc = (pred[test_idx] == labels[test_idx]).float().mean()\n",
        "\n",
        "    if best_val_acc < val_acc:\n",
        "        best_val_acc = val_acc\n",
        "        best_test_acc = test_acc\n",
        "\n",
        "    opt.zero_grad()\n",
        "    loss.backward()\n",
        "    opt.step()\n",
        "\n",
        "    if epoch % 5 == 0:\n",
        "        print('Loss %.4f, Train Acc %.4f, Val Acc %.4f (Best %.4f), Test Acc %.4f (Best %.4f)' % (\n",
        "            loss.item(),\n",
        "            train_acc.item(),\n",
        "            val_acc.item(),\n",
        "            best_val_acc.item(),\n",
        "            test_acc.item(),\n",
        "            best_test_acc.item(),\n",
        "        ))"
      ],
      "execution_count": 0,
      "outputs": [
        {
          "output_type": "stream",
          "text": [
            "Loss 1.4980, Train Acc 0.3688, Val Acc 0.3300 (Best 0.3300), Test Acc 0.3467 (Best 0.3467)\n",
            "Loss 1.1178, Train Acc 0.4137, Val Acc 0.3400 (Best 0.3400), Test Acc 0.3610 (Best 0.3610)\n",
            "Loss 0.8335, Train Acc 0.6587, Val Acc 0.4600 (Best 0.6800), Test Acc 0.5603 (Best 0.7085)\n",
            "Loss 0.6791, Train Acc 0.6400, Val Acc 0.4500 (Best 0.6800), Test Acc 0.5528 (Best 0.7085)\n",
            "Loss 0.5032, Train Acc 0.8338, Val Acc 0.5700 (Best 0.6800), Test Acc 0.6943 (Best 0.7085)\n",
            "Loss 0.3598, Train Acc 0.9187, Val Acc 0.6600 (Best 0.6800), Test Acc 0.7571 (Best 0.7085)\n",
            "Loss 0.2267, Train Acc 0.9625, Val Acc 0.7400 (Best 0.7400), Test Acc 0.8007 (Best 0.8007)\n",
            "Loss 0.1329, Train Acc 0.9937, Val Acc 0.7500 (Best 0.7500), Test Acc 0.8074 (Best 0.8132)\n",
            "Loss 0.0823, Train Acc 0.9975, Val Acc 0.7500 (Best 0.7500), Test Acc 0.7973 (Best 0.8132)\n",
            "Loss 0.0559, Train Acc 1.0000, Val Acc 0.7500 (Best 0.7500), Test Acc 0.7923 (Best 0.8132)\n",
            "Loss 0.0420, Train Acc 1.0000, Val Acc 0.7500 (Best 0.7500), Test Acc 0.7889 (Best 0.8132)\n",
            "Loss 0.0340, Train Acc 1.0000, Val Acc 0.7500 (Best 0.7500), Test Acc 0.7931 (Best 0.8132)\n",
            "Loss 0.0293, Train Acc 1.0000, Val Acc 0.7500 (Best 0.7500), Test Acc 0.7956 (Best 0.8132)\n",
            "Loss 0.0259, Train Acc 1.0000, Val Acc 0.7400 (Best 0.7500), Test Acc 0.7990 (Best 0.8132)\n",
            "Loss 0.0232, Train Acc 1.0000, Val Acc 0.7400 (Best 0.7500), Test Acc 0.8015 (Best 0.8132)\n",
            "Loss 0.0212, Train Acc 1.0000, Val Acc 0.7400 (Best 0.7500), Test Acc 0.8007 (Best 0.8132)\n",
            "Loss 0.0195, Train Acc 1.0000, Val Acc 0.7400 (Best 0.7500), Test Acc 0.7965 (Best 0.8132)\n",
            "Loss 0.0180, Train Acc 1.0000, Val Acc 0.7300 (Best 0.7500), Test Acc 0.7948 (Best 0.8132)\n",
            "Loss 0.0168, Train Acc 1.0000, Val Acc 0.7300 (Best 0.7500), Test Acc 0.7906 (Best 0.8132)\n",
            "Loss 0.0158, Train Acc 1.0000, Val Acc 0.7300 (Best 0.7500), Test Acc 0.7898 (Best 0.8132)\n"
          ],
          "name": "stdout"
        }
      ]
    }
  ]
}