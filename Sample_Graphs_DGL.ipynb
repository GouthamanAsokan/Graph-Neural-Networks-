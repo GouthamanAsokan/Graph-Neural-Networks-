{
  "nbformat": 4,
  "nbformat_minor": 0,
  "metadata": {
    "colab": {
      "name": "Sample_Graphs_DGL.ipynb",
      "provenance": []
    },
    "kernelspec": {
      "name": "python3",
      "display_name": "Python 3"
    }
  },
  "cells": [
    {
      "cell_type": "code",
      "metadata": {
        "id": "8GA5ZdaTJdwM",
        "colab_type": "code",
        "outputId": "2dfd5ae7-3a29-4fe9-ba56-6d9714f25aec",
        "colab": {
          "base_uri": "https://localhost:8080/",
          "height": 275
        }
      },
      "source": [
        "!pip install dgl"
      ],
      "execution_count": 1,
      "outputs": [
        {
          "output_type": "stream",
          "text": [
            "Collecting dgl\n",
            "\u001b[?25l  Downloading https://files.pythonhosted.org/packages/c5/b4/84e4ebd70ef3985181ef5d2d2a366a45af0e3cd18d249fb212ac03f683cf/dgl-0.4.3.post2-cp36-cp36m-manylinux1_x86_64.whl (3.0MB)\n",
            "\u001b[K     |████████████████████████████████| 3.0MB 2.8MB/s \n",
            "\u001b[?25hRequirement already satisfied: scipy>=1.1.0 in /usr/local/lib/python3.6/dist-packages (from dgl) (1.4.1)\n",
            "Requirement already satisfied: networkx>=2.1 in /usr/local/lib/python3.6/dist-packages (from dgl) (2.4)\n",
            "Requirement already satisfied: requests>=2.19.0 in /usr/local/lib/python3.6/dist-packages (from dgl) (2.23.0)\n",
            "Requirement already satisfied: numpy>=1.14.0 in /usr/local/lib/python3.6/dist-packages (from dgl) (1.18.4)\n",
            "Requirement already satisfied: decorator>=4.3.0 in /usr/local/lib/python3.6/dist-packages (from networkx>=2.1->dgl) (4.4.2)\n",
            "Requirement already satisfied: urllib3!=1.25.0,!=1.25.1,<1.26,>=1.21.1 in /usr/local/lib/python3.6/dist-packages (from requests>=2.19.0->dgl) (1.24.3)\n",
            "Requirement already satisfied: idna<3,>=2.5 in /usr/local/lib/python3.6/dist-packages (from requests>=2.19.0->dgl) (2.9)\n",
            "Requirement already satisfied: chardet<4,>=3.0.2 in /usr/local/lib/python3.6/dist-packages (from requests>=2.19.0->dgl) (3.0.4)\n",
            "Requirement already satisfied: certifi>=2017.4.17 in /usr/local/lib/python3.6/dist-packages (from requests>=2.19.0->dgl) (2020.4.5.1)\n",
            "Installing collected packages: dgl\n",
            "Successfully installed dgl-0.4.3.post2\n"
          ],
          "name": "stdout"
        }
      ]
    },
    {
      "cell_type": "code",
      "metadata": {
        "id": "C7gcyKdEKi2w",
        "colab_type": "code",
        "colab": {}
      },
      "source": [
        "#Importing the libraries\n",
        "import networkx as nx\n",
        "import dgl\n",
        "import matplotlib.pyplot as plt\n",
        "import torch as th"
      ],
      "execution_count": 0,
      "outputs": []
    },
    {
      "cell_type": "code",
      "metadata": {
        "id": "w4-msXHslANs",
        "colab_type": "code",
        "colab": {}
      },
      "source": [
        "#Route Map Graph\n",
        "places=[\"Chennai\",\"Bangalore\",\"Hyderabad\",\"Mumbai\",\"Delhi\",\"Kolkata\"]"
      ],
      "execution_count": 0,
      "outputs": []
    },
    {
      "cell_type": "code",
      "metadata": {
        "id": "2vKnTRqel871",
        "colab_type": "code",
        "colab": {
          "base_uri": "https://localhost:8080/",
          "height": 34
        },
        "outputId": "839eeee3-75bb-4358-f5c8-7d8e81e0cbd5"
      },
      "source": [
        "places[0]"
      ],
      "execution_count": 5,
      "outputs": [
        {
          "output_type": "execute_result",
          "data": {
            "text/plain": [
              "'Chennai'"
            ]
          },
          "metadata": {
            "tags": []
          },
          "execution_count": 5
        }
      ]
    },
    {
      "cell_type": "code",
      "metadata": {
        "id": "XmuzndTJkouh",
        "colab_type": "code",
        "colab": {}
      },
      "source": [
        "nxg = nx.DiGraph()\n",
        "nxg.add_edge(0, 1, distance=345, bus=1)\n",
        "nxg.add_edge(1, 3, distance=980, bus=0)\n",
        "nxg.add_edge(3, 4, distance=1420, bus=1)\n",
        "nxg.add_edge(1, 2, distance=570, bus=0)\n",
        "nxg.add_edge(4, 5, distance=1530, bus=1)\n",
        "g = dgl.DGLGraph()\n",
        "g.from_networkx(nxg, edge_attrs=['distance', 'bus'])"
      ],
      "execution_count": 0,
      "outputs": []
    },
    {
      "cell_type": "code",
      "metadata": {
        "id": "XIAYrpihnsUj",
        "colab_type": "code",
        "colab": {
          "base_uri": "https://localhost:8080/",
          "height": 319
        },
        "outputId": "44d3ebcc-514e-4f4b-94e8-e81db2240021"
      },
      "source": [
        "nx.draw(g.to_networkx(), with_labels=True)\n",
        "plt.show()"
      ],
      "execution_count": 7,
      "outputs": [
        {
          "output_type": "display_data",
          "data": {
            "image/png": "[encoded data removed]",
            "text/plain": [
              "<Figure size 432x288 with 1 Axes>"
            ]
          },
          "metadata": {
            "tags": []
          }
        }
      ]
    },
    {
      "cell_type": "code",
      "metadata": {
        "id": "u9H_BTxJnycd",
        "colab_type": "code",
        "colab": {
          "base_uri": "https://localhost:8080/",
          "height": 34
        },
        "outputId": "c80ddf87-af15-497b-e2bc-8aee75d65684"
      },
      "source": [
        "g.edata['distance']"
      ],
      "execution_count": 8,
      "outputs": [
        {
          "output_type": "execute_result",
          "data": {
            "text/plain": [
              "tensor([ 345,  980,  570, 1420, 1530])"
            ]
          },
          "metadata": {
            "tags": []
          },
          "execution_count": 8
        }
      ]
    },
    {
      "cell_type": "code",
      "metadata": {
        "id": "Ic07JD6an5a8",
        "colab_type": "code",
        "colab": {
          "base_uri": "https://localhost:8080/",
          "height": 34
        },
        "outputId": "9d009e57-ec78-45a2-b741-59553150b57a"
      },
      "source": [
        "g.edata['bus']"
      ],
      "execution_count": 9,
      "outputs": [
        {
          "output_type": "execute_result",
          "data": {
            "text/plain": [
              "tensor([1, 0, 0, 1, 1])"
            ]
          },
          "metadata": {
            "tags": []
          },
          "execution_count": 9
        }
      ]
    },
    {
      "cell_type": "code",
      "metadata": {
        "id": "4_MUT6n3n_87",
        "colab_type": "code",
        "colab": {}
      },
      "source": [
        "#Social Network Graph\n",
        "names=[\"Dave\",\"Tony\",\"Andrea\",\"Jeff\",\"Dustie\"]\n",
        "g_multi = dgl.DGLGraph()\n",
        "g_multi.add_nodes(5)"
      ],
      "execution_count": 0,
      "outputs": []
    },
    {
      "cell_type": "code",
      "metadata": {
        "id": "dar7nA0syaon",
        "colab_type": "code",
        "colab": {}
      },
      "source": [
        "for i in range(3):\n",
        "  g_multi.add_edge(1, 0)"
      ],
      "execution_count": 0,
      "outputs": []
    },
    {
      "cell_type": "code",
      "metadata": {
        "id": "sy5NAGjUyOBv",
        "colab_type": "code",
        "colab": {
          "base_uri": "https://localhost:8080/",
          "height": 34
        },
        "outputId": "100da168-08bd-4f07-c5c3-43914eec08f9"
      },
      "source": [
        "eid_10 = g_multi.edge_id(1, 0, return_array=True)\n",
        "len(eid_10)"
      ],
      "execution_count": 46,
      "outputs": [
        {
          "output_type": "execute_result",
          "data": {
            "text/plain": [
              "3"
            ]
          },
          "metadata": {
            "tags": []
          },
          "execution_count": 46
        }
      ]
    },
    {
      "cell_type": "code",
      "metadata": {
        "id": "NShg6pngzfgU",
        "colab_type": "code",
        "colab": {
          "base_uri": "https://localhost:8080/",
          "height": 34
        },
        "outputId": "197151f6-c30c-4b54-b7a3-7c3f38c7dd1f"
      },
      "source": [
        "lt=[1,72,7]\n",
        "rel_torch = torch.from_numpy(numpy.array(lt))\n",
        "rel_torch\n",
        "g_multi.edges[eid_10].data['w'] = rel_torch\n",
        "print(g_multi.edata['w'])"
      ],
      "execution_count": 50,
      "outputs": [
        {
          "output_type": "stream",
          "text": [
            "tensor([ 1, 72,  7])\n"
          ],
          "name": "stdout"
        }
      ]
    },
    {
      "cell_type": "code",
      "metadata": {
        "id": "JnSzmuVA3q_0",
        "colab_type": "code",
        "colab": {}
      },
      "source": [
        "for i in range(3):\n",
        "  g_multi.add_edge(2, 1)"
      ],
      "execution_count": 0,
      "outputs": []
    },
    {
      "cell_type": "code",
      "metadata": {
        "id": "6Ru92QMt3yIq",
        "colab_type": "code",
        "colab": {
          "base_uri": "https://localhost:8080/",
          "height": 34
        },
        "outputId": "8e0fa346-ddea-4533-ca85-328f9b0fe856"
      },
      "source": [
        "eid_21 = g_multi.edge_id(2,1, return_array=True)\n",
        "len(eid_21)"
      ],
      "execution_count": 52,
      "outputs": [
        {
          "output_type": "execute_result",
          "data": {
            "text/plain": [
              "3"
            ]
          },
          "metadata": {
            "tags": []
          },
          "execution_count": 52
        }
      ]
    },
    {
      "cell_type": "code",
      "metadata": {
        "id": "aR5gc7Q63cPi",
        "colab_type": "code",
        "colab": {
          "base_uri": "https://localhost:8080/",
          "height": 34
        },
        "outputId": "3bf27ef6-b608-4563-f1da-7708ee83118e"
      },
      "source": [
        "lt=[2,2,2]\n",
        "rel_torch = torch.from_numpy(numpy.array(lt))\n",
        "rel_torch\n",
        "g_multi.edges[eid_21].data['w'] = rel_torch\n",
        "print(g_multi.edata['w'])"
      ],
      "execution_count": 53,
      "outputs": [
        {
          "output_type": "stream",
          "text": [
            "tensor([ 1, 72,  7,  2,  2,  2])\n"
          ],
          "name": "stdout"
        }
      ]
    },
    {
      "cell_type": "code",
      "metadata": {
        "id": "yvXHmf-o4Eu1",
        "colab_type": "code",
        "colab": {
          "base_uri": "https://localhost:8080/",
          "height": 34
        },
        "outputId": "fba9b514-35c5-468a-d5f1-f3ec0cdb86ea"
      },
      "source": [
        "print(g_multi.edges[eid_10].data['w'])"
      ],
      "execution_count": 56,
      "outputs": [
        {
          "output_type": "stream",
          "text": [
            "tensor([ 1, 72,  7])\n"
          ],
          "name": "stdout"
        }
      ]
    }
  ]
}