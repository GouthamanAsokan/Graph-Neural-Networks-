{
  "nbformat": 4,
  "nbformat_minor": 0,
  "metadata": {
    "colab": {
      "name": "GCN_Rules_Explained.ipynb",
      "provenance": []
    },
    "kernelspec": {
      "name": "python3",
      "display_name": "Python 3"
    }
  },
  "cells": [
    {
      "cell_type": "code",
      "metadata": {
        "id": "3D1aJON6oFPL",
        "colab_type": "code",
        "colab": {
          "base_uri": "https://localhost:8080/",
          "height": 275
        },
        "outputId": "24ae5f8a-1353-4eb1-bb98-898dbfeecdd8"
      },
      "source": [
        "!pip install dgl"
      ],
      "execution_count": 2,
      "outputs": [
        {
          "output_type": "stream",
          "text": [
            "Collecting dgl\n",
            "\u001b[?25l  Downloading https://files.pythonhosted.org/packages/c5/b4/84e4ebd70ef3985181ef5d2d2a366a45af0e3cd18d249fb212ac03f683cf/dgl-0.4.3.post2-cp36-cp36m-manylinux1_x86_64.whl (3.0MB)\n",
            "\r\u001b[K     |                                | 10kB 14.6MB/s eta 0:00:01\r\u001b[K     |▏                               | 20kB 1.6MB/s eta 0:00:02\r\u001b[K     |▎                               | 30kB 2.0MB/s eta 0:00:02\r\u001b[K     |▍                               | 40kB 2.3MB/s eta 0:00:02\r\u001b[K     |▌                               | 51kB 1.9MB/s eta 0:00:02\r\u001b[K     |▋                               | 61kB 2.1MB/s eta 0:00:02\r\u001b[K     |▊                               | 71kB 2.3MB/s eta 0:00:02\r\u001b[K     |▉                               | 81kB 2.5MB/s eta 0:00:02\r\u001b[K     |█                               | 92kB 2.7MB/s eta 0:00:02\r\u001b[K     |█                               | 102kB 2.6MB/s eta 0:00:02\r\u001b[K     |█▏                              | 112kB 2.6MB/s eta 0:00:02\r\u001b[K     |█▎                              | 122kB 2.6MB/s eta 0:00:02\r\u001b[K     |█▍                              | 133kB 2.6MB/s eta 0:00:02\r\u001b[K     |█▌                              | 143kB 2.6MB/s eta 0:00:02\r\u001b[K     |█▋                              | 153kB 2.6MB/s eta 0:00:02\r\u001b[K     |█▊                              | 163kB 2.6MB/s eta 0:00:02\r\u001b[K     |█▉                              | 174kB 2.6MB/s eta 0:00:02\r\u001b[K     |██                              | 184kB 2.6MB/s eta 0:00:02\r\u001b[K     |██                              | 194kB 2.6MB/s eta 0:00:02\r\u001b[K     |██▏                             | 204kB 2.6MB/s eta 0:00:02\r\u001b[K     |██▎                             | 215kB 2.6MB/s eta 0:00:02\r\u001b[K     |██▍                             | 225kB 2.6MB/s eta 0:00:02\r\u001b[K     |██▌                             | 235kB 2.6MB/s eta 0:00:02\r\u001b[K     |██▋                             | 245kB 2.6MB/s eta 0:00:02\r\u001b[K     |██▊                             | 256kB 2.6MB/s eta 0:00:02\r\u001b[K     |██▉                             | 266kB 2.6MB/s eta 0:00:02\r\u001b[K     |███                             | 276kB 2.6MB/s eta 0:00:02\r\u001b[K     |███                             | 286kB 2.6MB/s eta 0:00:02\r\u001b[K     |███▏                            | 296kB 2.6MB/s eta 0:00:02\r\u001b[K     |███▎                            | 307kB 2.6MB/s eta 0:00:02\r\u001b[K     |███▍                            | 317kB 2.6MB/s eta 0:00:02\r\u001b[K     |███▌                            | 327kB 2.6MB/s eta 0:00:02\r\u001b[K     |███▋                            | 337kB 2.6MB/s eta 0:00:02\r\u001b[K     |███▊                            | 348kB 2.6MB/s eta 0:00:01\r\u001b[K     |███▉                            | 358kB 2.6MB/s eta 0:00:01\r\u001b[K     |████                            | 368kB 2.6MB/s eta 0:00:01\r\u001b[K     |████                            | 378kB 2.6MB/s eta 0:00:01\r\u001b[K     |████▏                           | 389kB 2.6MB/s eta 0:00:01\r\u001b[K     |████▎                           | 399kB 2.6MB/s eta 0:00:01\r\u001b[K     |████▍                           | 409kB 2.6MB/s eta 0:00:01\r\u001b[K     |████▌                           | 419kB 2.6MB/s eta 0:00:01\r\u001b[K     |████▋                           | 430kB 2.6MB/s eta 0:00:01\r\u001b[K     |████▊                           | 440kB 2.6MB/s eta 0:00:01\r\u001b[K     |████▉                           | 450kB 2.6MB/s eta 0:00:01\r\u001b[K     |█████                           | 460kB 2.6MB/s eta 0:00:01\r\u001b[K     |█████                           | 471kB 2.6MB/s eta 0:00:01\r\u001b[K     |█████▏                          | 481kB 2.6MB/s eta 0:00:01\r\u001b[K     |█████▎                          | 491kB 2.6MB/s eta 0:00:01\r\u001b[K     |█████▍                          | 501kB 2.6MB/s eta 0:00:01\r\u001b[K     |█████▌                          | 512kB 2.6MB/s eta 0:00:01\r\u001b[K     |█████▋                          | 522kB 2.6MB/s eta 0:00:01\r\u001b[K     |█████▊                          | 532kB 2.6MB/s eta 0:00:01\r\u001b[K     |█████▉                          | 542kB 2.6MB/s eta 0:00:01\r\u001b[K     |██████                          | 552kB 2.6MB/s eta 0:00:01\r\u001b[K     |██████                          | 563kB 2.6MB/s eta 0:00:01\r\u001b[K     |██████▏                         | 573kB 2.6MB/s eta 0:00:01\r\u001b[K     |██████▎                         | 583kB 2.6MB/s eta 0:00:01\r\u001b[K     |██████▍                         | 593kB 2.6MB/s eta 0:00:01\r\u001b[K     |██████▌                         | 604kB 2.6MB/s eta 0:00:01\r\u001b[K     |██████▋                         | 614kB 2.6MB/s eta 0:00:01\r\u001b[K     |██████▊                         | 624kB 2.6MB/s eta 0:00:01\r\u001b[K     |██████▉                         | 634kB 2.6MB/s eta 0:00:01\r\u001b[K     |███████                         | 645kB 2.6MB/s eta 0:00:01\r\u001b[K     |███████                         | 655kB 2.6MB/s eta 0:00:01\r\u001b[K     |███████▏                        | 665kB 2.6MB/s eta 0:00:01\r\u001b[K     |███████▎                        | 675kB 2.6MB/s eta 0:00:01\r\u001b[K     |███████▍                        | 686kB 2.6MB/s eta 0:00:01\r\u001b[K     |███████▌                        | 696kB 2.6MB/s eta 0:00:01\r\u001b[K     |███████▋                        | 706kB 2.6MB/s eta 0:00:01\r\u001b[K     |███████▊                        | 716kB 2.6MB/s eta 0:00:01\r\u001b[K     |███████▉                        | 727kB 2.6MB/s eta 0:00:01\r\u001b[K     |████████                        | 737kB 2.6MB/s eta 0:00:01\r\u001b[K     |████████                        | 747kB 2.6MB/s eta 0:00:01\r\u001b[K     |████████▏                       | 757kB 2.6MB/s eta 0:00:01\r\u001b[K     |████████▎                       | 768kB 2.6MB/s eta 0:00:01\r\u001b[K     |████████▍                       | 778kB 2.6MB/s eta 0:00:01\r\u001b[K     |████████▌                       | 788kB 2.6MB/s eta 0:00:01\r\u001b[K     |████████▋                       | 798kB 2.6MB/s eta 0:00:01\r\u001b[K     |████████▊                       | 808kB 2.6MB/s eta 0:00:01\r\u001b[K     |████████▉                       | 819kB 2.6MB/s eta 0:00:01\r\u001b[K     |█████████                       | 829kB 2.6MB/s eta 0:00:01\r\u001b[K     |█████████                       | 839kB 2.6MB/s eta 0:00:01\r\u001b[K     |█████████▏                      | 849kB 2.6MB/s eta 0:00:01\r\u001b[K     |█████████▎                      | 860kB 2.6MB/s eta 0:00:01\r\u001b[K     |█████████▍                      | 870kB 2.6MB/s eta 0:00:01\r\u001b[K     |█████████▌                      | 880kB 2.6MB/s eta 0:00:01\r\u001b[K     |█████████▋                      | 890kB 2.6MB/s eta 0:00:01\r\u001b[K     |█████████▊                      | 901kB 2.6MB/s eta 0:00:01\r\u001b[K     |█████████▉                      | 911kB 2.6MB/s eta 0:00:01\r\u001b[K     |██████████                      | 921kB 2.6MB/s eta 0:00:01\r\u001b[K     |██████████                      | 931kB 2.6MB/s eta 0:00:01\r\u001b[K     |██████████▏                     | 942kB 2.6MB/s eta 0:00:01\r\u001b[K     |██████████▎                     | 952kB 2.6MB/s eta 0:00:01\r\u001b[K     |██████████▍                     | 962kB 2.6MB/s eta 0:00:01\r\u001b[K     |██████████▌                     | 972kB 2.6MB/s eta 0:00:01\r\u001b[K     |██████████▋                     | 983kB 2.6MB/s eta 0:00:01\r\u001b[K     |██████████▊                     | 993kB 2.6MB/s eta 0:00:01\r\u001b[K     |██████████▉                     | 1.0MB 2.6MB/s eta 0:00:01\r\u001b[K     |███████████                     | 1.0MB 2.6MB/s eta 0:00:01\r\u001b[K     |███████████                     | 1.0MB 2.6MB/s eta 0:00:01\r\u001b[K     |███████████▏                    | 1.0MB 2.6MB/s eta 0:00:01\r\u001b[K     |███████████▎                    | 1.0MB 2.6MB/s eta 0:00:01\r\u001b[K     |███████████▍                    | 1.1MB 2.6MB/s eta 0:00:01\r\u001b[K     |███████████▌                    | 1.1MB 2.6MB/s eta 0:00:01\r\u001b[K     |███████████▋                    | 1.1MB 2.6MB/s eta 0:00:01\r\u001b[K     |███████████▊                    | 1.1MB 2.6MB/s eta 0:00:01\r\u001b[K     |███████████▉                    | 1.1MB 2.6MB/s eta 0:00:01\r\u001b[K     |████████████                    | 1.1MB 2.6MB/s eta 0:00:01\r\u001b[K     |████████████                    | 1.1MB 2.6MB/s eta 0:00:01\r\u001b[K     |████████████▏                   | 1.1MB 2.6MB/s eta 0:00:01\r\u001b[K     |████████████▎                   | 1.1MB 2.6MB/s eta 0:00:01\r\u001b[K     |████████████▍                   | 1.1MB 2.6MB/s eta 0:00:01\r\u001b[K     |████████████▌                   | 1.2MB 2.6MB/s eta 0:00:01\r\u001b[K     |████████████▋                   | 1.2MB 2.6MB/s eta 0:00:01\r\u001b[K     |████████████▊                   | 1.2MB 2.6MB/s eta 0:00:01\r\u001b[K     |████████████▉                   | 1.2MB 2.6MB/s eta 0:00:01\r\u001b[K     |█████████████                   | 1.2MB 2.6MB/s eta 0:00:01\r\u001b[K     |█████████████                   | 1.2MB 2.6MB/s eta 0:00:01\r\u001b[K     |█████████████▏                  | 1.2MB 2.6MB/s eta 0:00:01\r\u001b[K     |█████████████▎                  | 1.2MB 2.6MB/s eta 0:00:01\r\u001b[K     |█████████████▍                  | 1.2MB 2.6MB/s eta 0:00:01\r\u001b[K     |█████████████▌                  | 1.2MB 2.6MB/s eta 0:00:01\r\u001b[K     |█████████████▋                  | 1.3MB 2.6MB/s eta 0:00:01\r\u001b[K     |█████████████▊                  | 1.3MB 2.6MB/s eta 0:00:01\r\u001b[K     |█████████████▉                  | 1.3MB 2.6MB/s eta 0:00:01\r\u001b[K     |██████████████                  | 1.3MB 2.6MB/s eta 0:00:01\r\u001b[K     |██████████████                  | 1.3MB 2.6MB/s eta 0:00:01\r\u001b[K     |██████████████▏                 | 1.3MB 2.6MB/s eta 0:00:01\r\u001b[K     |██████████████▎                 | 1.3MB 2.6MB/s eta 0:00:01\r\u001b[K     |██████████████▍                 | 1.3MB 2.6MB/s eta 0:00:01\r\u001b[K     |██████████████▌                 | 1.3MB 2.6MB/s eta 0:00:01\r\u001b[K     |██████████████▋                 | 1.4MB 2.6MB/s eta 0:00:01\r\u001b[K     |██████████████▊                 | 1.4MB 2.6MB/s eta 0:00:01\r\u001b[K     |██████████████▉                 | 1.4MB 2.6MB/s eta 0:00:01\r\u001b[K     |███████████████                 | 1.4MB 2.6MB/s eta 0:00:01\r\u001b[K     |███████████████                 | 1.4MB 2.6MB/s eta 0:00:01\r\u001b[K     |███████████████▏                | 1.4MB 2.6MB/s eta 0:00:01\r\u001b[K     |███████████████▎                | 1.4MB 2.6MB/s eta 0:00:01\r\u001b[K     |███████████████▍                | 1.4MB 2.6MB/s eta 0:00:01\r\u001b[K     |███████████████▌                | 1.4MB 2.6MB/s eta 0:00:01\r\u001b[K     |███████████████▋                | 1.4MB 2.6MB/s eta 0:00:01\r\u001b[K     |███████████████▊                | 1.5MB 2.6MB/s eta 0:00:01\r\u001b[K     |███████████████▉                | 1.5MB 2.6MB/s eta 0:00:01\r\u001b[K     |████████████████                | 1.5MB 2.6MB/s eta 0:00:01\r\u001b[K     |████████████████                | 1.5MB 2.6MB/s eta 0:00:01\r\u001b[K     |████████████████▏               | 1.5MB 2.6MB/s eta 0:00:01\r\u001b[K     |████████████████▎               | 1.5MB 2.6MB/s eta 0:00:01\r\u001b[K     |████████████████▍               | 1.5MB 2.6MB/s eta 0:00:01\r\u001b[K     |████████████████▌               | 1.5MB 2.6MB/s eta 0:00:01\r\u001b[K     |████████████████▋               | 1.5MB 2.6MB/s eta 0:00:01\r\u001b[K     |████████████████▊               | 1.5MB 2.6MB/s eta 0:00:01\r\u001b[K     |████████████████▉               | 1.6MB 2.6MB/s eta 0:00:01\r\u001b[K     |█████████████████               | 1.6MB 2.6MB/s eta 0:00:01\r\u001b[K     |█████████████████               | 1.6MB 2.6MB/s eta 0:00:01\r\u001b[K     |█████████████████▏              | 1.6MB 2.6MB/s eta 0:00:01\r\u001b[K     |█████████████████▎              | 1.6MB 2.6MB/s eta 0:00:01\r\u001b[K     |█████████████████▍              | 1.6MB 2.6MB/s eta 0:00:01\r\u001b[K     |█████████████████▌              | 1.6MB 2.6MB/s eta 0:00:01\r\u001b[K     |█████████████████▋              | 1.6MB 2.6MB/s eta 0:00:01\r\u001b[K     |█████████████████▋              | 1.6MB 2.6MB/s eta 0:00:01\r\u001b[K     |█████████████████▊              | 1.6MB 2.6MB/s eta 0:00:01\r\u001b[K     |█████████████████▉              | 1.7MB 2.6MB/s eta 0:00:01\r\u001b[K     |██████████████████              | 1.7MB 2.6MB/s eta 0:00:01\r\u001b[K     |██████████████████              | 1.7MB 2.6MB/s eta 0:00:01\r\u001b[K     |██████████████████▏             | 1.7MB 2.6MB/s eta 0:00:01\r\u001b[K     |██████████████████▎             | 1.7MB 2.6MB/s eta 0:00:01\r\u001b[K     |██████████████████▍             | 1.7MB 2.6MB/s eta 0:00:01\r\u001b[K     |██████████████████▌             | 1.7MB 2.6MB/s eta 0:00:01\r\u001b[K     |██████████████████▋             | 1.7MB 2.6MB/s eta 0:00:01\r\u001b[K     |██████████████████▊             | 1.7MB 2.6MB/s eta 0:00:01\r\u001b[K     |██████████████████▉             | 1.8MB 2.6MB/s eta 0:00:01\r\u001b[K     |███████████████████             | 1.8MB 2.6MB/s eta 0:00:01\r\u001b[K     |███████████████████             | 1.8MB 2.6MB/s eta 0:00:01\r\u001b[K     |███████████████████▏            | 1.8MB 2.6MB/s eta 0:00:01\r\u001b[K     |███████████████████▎            | 1.8MB 2.6MB/s eta 0:00:01\r\u001b[K     |███████████████████▍            | 1.8MB 2.6MB/s eta 0:00:01\r\u001b[K     |███████████████████▌            | 1.8MB 2.6MB/s eta 0:00:01\r\u001b[K     |███████████████████▋            | 1.8MB 2.6MB/s eta 0:00:01\r\u001b[K     |███████████████████▊            | 1.8MB 2.6MB/s eta 0:00:01\r\u001b[K     |███████████████████▉            | 1.8MB 2.6MB/s eta 0:00:01\r\u001b[K     |████████████████████            | 1.9MB 2.6MB/s eta 0:00:01\r\u001b[K     |████████████████████            | 1.9MB 2.6MB/s eta 0:00:01\r\u001b[K     |████████████████████▏           | 1.9MB 2.6MB/s eta 0:00:01\r\u001b[K     |████████████████████▎           | 1.9MB 2.6MB/s eta 0:00:01\r\u001b[K     |████████████████████▍           | 1.9MB 2.6MB/s eta 0:00:01\r\u001b[K     |████████████████████▌           | 1.9MB 2.6MB/s eta 0:00:01\r\u001b[K     |████████████████████▋           | 1.9MB 2.6MB/s eta 0:00:01\r\u001b[K     |████████████████████▊           | 1.9MB 2.6MB/s eta 0:00:01\r\u001b[K     |████████████████████▉           | 1.9MB 2.6MB/s eta 0:00:01\r\u001b[K     |█████████████████████           | 1.9MB 2.6MB/s eta 0:00:01\r\u001b[K     |█████████████████████           | 2.0MB 2.6MB/s eta 0:00:01\r\u001b[K     |█████████████████████▏          | 2.0MB 2.6MB/s eta 0:00:01\r\u001b[K     |█████████████████████▎          | 2.0MB 2.6MB/s eta 0:00:01\r\u001b[K     |█████████████████████▍          | 2.0MB 2.6MB/s eta 0:00:01\r\u001b[K     |█████████████████████▌          | 2.0MB 2.6MB/s eta 0:00:01\r\u001b[K     |█████████████████████▋          | 2.0MB 2.6MB/s eta 0:00:01\r\u001b[K     |█████████████████████▊          | 2.0MB 2.6MB/s eta 0:00:01\r\u001b[K     |█████████████████████▉          | 2.0MB 2.6MB/s eta 0:00:01\r\u001b[K     |██████████████████████          | 2.0MB 2.6MB/s eta 0:00:01\r\u001b[K     |██████████████████████          | 2.0MB 2.6MB/s eta 0:00:01\r\u001b[K     |██████████████████████▏         | 2.1MB 2.6MB/s eta 0:00:01\r\u001b[K     |██████████████████████▎         | 2.1MB 2.6MB/s eta 0:00:01\r\u001b[K     |██████████████████████▍         | 2.1MB 2.6MB/s eta 0:00:01\r\u001b[K     |██████████████████████▌         | 2.1MB 2.6MB/s eta 0:00:01\r\u001b[K     |██████████████████████▋         | 2.1MB 2.6MB/s eta 0:00:01\r\u001b[K     |██████████████████████▊         | 2.1MB 2.6MB/s eta 0:00:01\r\u001b[K     |██████████████████████▉         | 2.1MB 2.6MB/s eta 0:00:01\r\u001b[K     |███████████████████████         | 2.1MB 2.6MB/s eta 0:00:01\r\u001b[K     |███████████████████████         | 2.1MB 2.6MB/s eta 0:00:01\r\u001b[K     |███████████████████████▏        | 2.2MB 2.6MB/s eta 0:00:01\r\u001b[K     |███████████████████████▎        | 2.2MB 2.6MB/s eta 0:00:01\r\u001b[K     |███████████████████████▍        | 2.2MB 2.6MB/s eta 0:00:01\r\u001b[K     |███████████████████████▌        | 2.2MB 2.6MB/s eta 0:00:01\r\u001b[K     |███████████████████████▋        | 2.2MB 2.6MB/s eta 0:00:01\r\u001b[K     |███████████████████████▊        | 2.2MB 2.6MB/s eta 0:00:01\r\u001b[K     |███████████████████████▉        | 2.2MB 2.6MB/s eta 0:00:01\r\u001b[K     |████████████████████████        | 2.2MB 2.6MB/s eta 0:00:01\r\u001b[K     |████████████████████████        | 2.2MB 2.6MB/s eta 0:00:01\r\u001b[K     |████████████████████████▏       | 2.2MB 2.6MB/s eta 0:00:01\r\u001b[K     |████████████████████████▎       | 2.3MB 2.6MB/s eta 0:00:01\r\u001b[K     |████████████████████████▍       | 2.3MB 2.6MB/s eta 0:00:01\r\u001b[K     |████████████████████████▌       | 2.3MB 2.6MB/s eta 0:00:01\r\u001b[K     |████████████████████████▋       | 2.3MB 2.6MB/s eta 0:00:01\r\u001b[K     |████████████████████████▊       | 2.3MB 2.6MB/s eta 0:00:01\r\u001b[K     |████████████████████████▉       | 2.3MB 2.6MB/s eta 0:00:01\r\u001b[K     |█████████████████████████       | 2.3MB 2.6MB/s eta 0:00:01\r\u001b[K     |█████████████████████████       | 2.3MB 2.6MB/s eta 0:00:01\r\u001b[K     |█████████████████████████▏      | 2.3MB 2.6MB/s eta 0:00:01\r\u001b[K     |█████████████████████████▎      | 2.3MB 2.6MB/s eta 0:00:01\r\u001b[K     |█████████████████████████▍      | 2.4MB 2.6MB/s eta 0:00:01\r\u001b[K     |█████████████████████████▌      | 2.4MB 2.6MB/s eta 0:00:01\r\u001b[K     |█████████████████████████▋      | 2.4MB 2.6MB/s eta 0:00:01\r\u001b[K     |█████████████████████████▊      | 2.4MB 2.6MB/s eta 0:00:01\r\u001b[K     |█████████████████████████▉      | 2.4MB 2.6MB/s eta 0:00:01\r\u001b[K     |██████████████████████████      | 2.4MB 2.6MB/s eta 0:00:01\r\u001b[K     |██████████████████████████      | 2.4MB 2.6MB/s eta 0:00:01\r\u001b[K     |██████████████████████████▏     | 2.4MB 2.6MB/s eta 0:00:01\r\u001b[K     |██████████████████████████▎     | 2.4MB 2.6MB/s eta 0:00:01\r\u001b[K     |██████████████████████████▍     | 2.4MB 2.6MB/s eta 0:00:01\r\u001b[K     |██████████████████████████▌     | 2.5MB 2.6MB/s eta 0:00:01\r\u001b[K     |██████████████████████████▋     | 2.5MB 2.6MB/s eta 0:00:01\r\u001b[K     |██████████████████████████▊     | 2.5MB 2.6MB/s eta 0:00:01\r\u001b[K     |██████████████████████████▉     | 2.5MB 2.6MB/s eta 0:00:01\r\u001b[K     |███████████████████████████     | 2.5MB 2.6MB/s eta 0:00:01\r\u001b[K     |███████████████████████████     | 2.5MB 2.6MB/s eta 0:00:01\r\u001b[K     |███████████████████████████▏    | 2.5MB 2.6MB/s eta 0:00:01\r\u001b[K     |███████████████████████████▎    | 2.5MB 2.6MB/s eta 0:00:01\r\u001b[K     |███████████████████████████▍    | 2.5MB 2.6MB/s eta 0:00:01\r\u001b[K     |███████████████████████████▌    | 2.5MB 2.6MB/s eta 0:00:01\r\u001b[K     |███████████████████████████▋    | 2.6MB 2.6MB/s eta 0:00:01\r\u001b[K     |███████████████████████████▊    | 2.6MB 2.6MB/s eta 0:00:01\r\u001b[K     |███████████████████████████▉    | 2.6MB 2.6MB/s eta 0:00:01\r\u001b[K     |████████████████████████████    | 2.6MB 2.6MB/s eta 0:00:01\r\u001b[K     |████████████████████████████    | 2.6MB 2.6MB/s eta 0:00:01\r\u001b[K     |████████████████████████████▏   | 2.6MB 2.6MB/s eta 0:00:01\r\u001b[K     |████████████████████████████▎   | 2.6MB 2.6MB/s eta 0:00:01\r\u001b[K     |████████████████████████████▍   | 2.6MB 2.6MB/s eta 0:00:01\r\u001b[K     |████████████████████████████▌   | 2.6MB 2.6MB/s eta 0:00:01\r\u001b[K     |████████████████████████████▋   | 2.7MB 2.6MB/s eta 0:00:01\r\u001b[K     |████████████████████████████▊   | 2.7MB 2.6MB/s eta 0:00:01\r\u001b[K     |████████████████████████████▉   | 2.7MB 2.6MB/s eta 0:00:01\r\u001b[K     |█████████████████████████████   | 2.7MB 2.6MB/s eta 0:00:01\r\u001b[K     |█████████████████████████████   | 2.7MB 2.6MB/s eta 0:00:01\r\u001b[K     |█████████████████████████████▏  | 2.7MB 2.6MB/s eta 0:00:01\r\u001b[K     |█████████████████████████████▎  | 2.7MB 2.6MB/s eta 0:00:01\r\u001b[K     |█████████████████████████████▍  | 2.7MB 2.6MB/s eta 0:00:01\r\u001b[K     |█████████████████████████████▌  | 2.7MB 2.6MB/s eta 0:00:01\r\u001b[K     |█████████████████████████████▋  | 2.7MB 2.6MB/s eta 0:00:01\r\u001b[K     |█████████████████████████████▊  | 2.8MB 2.6MB/s eta 0:00:01\r\u001b[K     |█████████████████████████████▉  | 2.8MB 2.6MB/s eta 0:00:01\r\u001b[K     |██████████████████████████████  | 2.8MB 2.6MB/s eta 0:00:01\r\u001b[K     |██████████████████████████████  | 2.8MB 2.6MB/s eta 0:00:01\r\u001b[K     |██████████████████████████████▏ | 2.8MB 2.6MB/s eta 0:00:01\r\u001b[K     |██████████████████████████████▎ | 2.8MB 2.6MB/s eta 0:00:01\r\u001b[K     |██████████████████████████████▍ | 2.8MB 2.6MB/s eta 0:00:01\r\u001b[K     |██████████████████████████████▌ | 2.8MB 2.6MB/s eta 0:00:01\r\u001b[K     |██████████████████████████████▋ | 2.8MB 2.6MB/s eta 0:00:01\r\u001b[K     |██████████████████████████████▊ | 2.8MB 2.6MB/s eta 0:00:01\r\u001b[K     |██████████████████████████████▉ | 2.9MB 2.6MB/s eta 0:00:01\r\u001b[K     |███████████████████████████████ | 2.9MB 2.6MB/s eta 0:00:01\r\u001b[K     |███████████████████████████████ | 2.9MB 2.6MB/s eta 0:00:01\r\u001b[K     |███████████████████████████████▏| 2.9MB 2.6MB/s eta 0:00:01\r\u001b[K     |███████████████████████████████▎| 2.9MB 2.6MB/s eta 0:00:01\r\u001b[K     |███████████████████████████████▍| 2.9MB 2.6MB/s eta 0:00:01\r\u001b[K     |███████████████████████████████▌| 2.9MB 2.6MB/s eta 0:00:01\r\u001b[K     |███████████████████████████████▋| 2.9MB 2.6MB/s eta 0:00:01\r\u001b[K     |███████████████████████████████▊| 2.9MB 2.6MB/s eta 0:00:01\r\u001b[K     |███████████████████████████████▉| 2.9MB 2.6MB/s eta 0:00:01\r\u001b[K     |████████████████████████████████| 3.0MB 2.6MB/s eta 0:00:01\r\u001b[K     |████████████████████████████████| 3.0MB 2.6MB/s \n",
            "\u001b[?25hRequirement already satisfied: numpy>=1.14.0 in /usr/local/lib/python3.6/dist-packages (from dgl) (1.18.4)\n",
            "Requirement already satisfied: scipy>=1.1.0 in /usr/local/lib/python3.6/dist-packages (from dgl) (1.4.1)\n",
            "Requirement already satisfied: requests>=2.19.0 in /usr/local/lib/python3.6/dist-packages (from dgl) (2.23.0)\n",
            "Requirement already satisfied: networkx>=2.1 in /usr/local/lib/python3.6/dist-packages (from dgl) (2.4)\n",
            "Requirement already satisfied: urllib3!=1.25.0,!=1.25.1,<1.26,>=1.21.1 in /usr/local/lib/python3.6/dist-packages (from requests>=2.19.0->dgl) (1.24.3)\n",
            "Requirement already satisfied: certifi>=2017.4.17 in /usr/local/lib/python3.6/dist-packages (from requests>=2.19.0->dgl) (2020.4.5.1)\n",
            "Requirement already satisfied: chardet<4,>=3.0.2 in /usr/local/lib/python3.6/dist-packages (from requests>=2.19.0->dgl) (3.0.4)\n",
            "Requirement already satisfied: idna<3,>=2.5 in /usr/local/lib/python3.6/dist-packages (from requests>=2.19.0->dgl) (2.9)\n",
            "Requirement already satisfied: decorator>=4.3.0 in /usr/local/lib/python3.6/dist-packages (from networkx>=2.1->dgl) (4.4.2)\n",
            "Installing collected packages: dgl\n",
            "Successfully installed dgl-0.4.3.post2\n"
          ],
          "name": "stdout"
        }
      ]
    },
    {
      "cell_type": "code",
      "metadata": {
        "id": "ryI_UbEYp65S",
        "colab_type": "code",
        "colab": {}
      },
      "source": [
        "import networkx as nx\n",
        "import dgl\n",
        "import matplotlib.pyplot as plt"
      ],
      "execution_count": 0,
      "outputs": []
    },
    {
      "cell_type": "code",
      "metadata": {
        "id": "kpg4yAW1p1li",
        "colab_type": "code",
        "colab": {
          "base_uri": "https://localhost:8080/",
          "height": 319
        },
        "outputId": "8bad48c5-4a9f-40c2-b1e2-0754130bff11"
      },
      "source": [
        "#Creating the Di Graph\n",
        "G=nx.DiGraph()\n",
        "G.add_nodes_from([0,1,2,3])\n",
        "nx.draw(G, with_labels=True)\n",
        "plt.show()"
      ],
      "execution_count": 6,
      "outputs": [
        {
          "output_type": "display_data",
          "data": {
            "image/png": "[encoded data removed]",
            "text/plain": [
              "<Figure size 432x288 with 1 Axes>"
            ]
          },
          "metadata": {
            "tags": []
          }
        }
      ]
    },
    {
      "cell_type": "code",
      "metadata": {
        "id": "hY6YA22EqHVt",
        "colab_type": "code",
        "colab": {
          "base_uri": "https://localhost:8080/",
          "height": 319
        },
        "outputId": "f2d3cb63-9c38-40dc-9aa9-cdbfdf3b66f2"
      },
      "source": [
        "G.add_edges_from([(0,1),(1,3),(2,1),(3,0),(3,2),(1,2)])\n",
        "nx.draw(G, with_labels=True)\n",
        "plt.show()"
      ],
      "execution_count": 8,
      "outputs": [
        {
          "output_type": "display_data",
          "data": {
            "image/png": "[encoded data removed]",
            "text/plain": [
              "<Figure size 432x288 with 1 Axes>"
            ]
          },
          "metadata": {
            "tags": []
          }
        }
      ]
    },
    {
      "cell_type": "code",
      "metadata": {
        "id": "Pcy4ffBjqtuy",
        "colab_type": "code",
        "colab": {}
      },
      "source": [
        "import numpy as np\n",
        "#Creating the adjacency matrix\n",
        "A = np.matrix([\n",
        "    [0, 1, 0, 0],\n",
        "    [0, 0, 1, 1], \n",
        "    [0, 1, 0, 0],\n",
        "    [1, 0, 1, 0]],\n",
        "    dtype=float\n",
        ")"
      ],
      "execution_count": 0,
      "outputs": []
    },
    {
      "cell_type": "code",
      "metadata": {
        "id": "Hw-RJF4Dq-c3",
        "colab_type": "code",
        "colab": {
          "base_uri": "https://localhost:8080/",
          "height": 85
        },
        "outputId": "24e0fd9a-433d-4cc0-894b-caf3547fe33c"
      },
      "source": [
        "#Features for every node based on its index\n",
        "X = np.matrix([\n",
        "            [i, -i]\n",
        "            for i in range(A.shape[0])], dtype=float)\n",
        "X"
      ],
      "execution_count": 10,
      "outputs": [
        {
          "output_type": "execute_result",
          "data": {
            "text/plain": [
              "matrix([[ 0.,  0.],\n",
              "        [ 1., -1.],\n",
              "        [ 2., -2.],\n",
              "        [ 3., -3.]])"
            ]
          },
          "metadata": {
            "tags": []
          },
          "execution_count": 10
        }
      ]
    },
    {
      "cell_type": "code",
      "metadata": {
        "id": "EJGLoS6GrMcA",
        "colab_type": "code",
        "colab": {
          "base_uri": "https://localhost:8080/",
          "height": 85
        },
        "outputId": "55a0fd8d-241f-440b-89cc-985e9da67857"
      },
      "source": [
        "#Applying the propogation rule\n",
        "A * X"
      ],
      "execution_count": 11,
      "outputs": [
        {
          "output_type": "execute_result",
          "data": {
            "text/plain": [
              "matrix([[ 1., -1.],\n",
              "        [ 5., -5.],\n",
              "        [ 1., -1.],\n",
              "        [ 2., -2.]])"
            ]
          },
          "metadata": {
            "tags": []
          },
          "execution_count": 11
        }
      ]
    },
    {
      "cell_type": "code",
      "metadata": {
        "id": "Jkg7KAOVrg5m",
        "colab_type": "code",
        "colab": {
          "base_uri": "https://localhost:8080/",
          "height": 85
        },
        "outputId": "b771bbfa-1bce-4b76-a26a-177e2fa5b3e7"
      },
      "source": [
        "I = np.matrix(np.eye(A.shape[0]))\n",
        "I"
      ],
      "execution_count": 12,
      "outputs": [
        {
          "output_type": "execute_result",
          "data": {
            "text/plain": [
              "matrix([[1., 0., 0., 0.],\n",
              "        [0., 1., 0., 0.],\n",
              "        [0., 0., 1., 0.],\n",
              "        [0., 0., 0., 1.]])"
            ]
          },
          "metadata": {
            "tags": []
          },
          "execution_count": 12
        }
      ]
    },
    {
      "cell_type": "code",
      "metadata": {
        "id": "daahNYuCrp_X",
        "colab_type": "code",
        "colab": {
          "base_uri": "https://localhost:8080/",
          "height": 85
        },
        "outputId": "fc635898-edc6-4ddf-d278-3bb48f46eaeb"
      },
      "source": [
        "#Adding self loops \n",
        "A_hat = A + I\n",
        "A_hat * X"
      ],
      "execution_count": 13,
      "outputs": [
        {
          "output_type": "execute_result",
          "data": {
            "text/plain": [
              "matrix([[ 1., -1.],\n",
              "        [ 6., -6.],\n",
              "        [ 3., -3.],\n",
              "        [ 5., -5.]])"
            ]
          },
          "metadata": {
            "tags": []
          },
          "execution_count": 13
        }
      ]
    },
    {
      "cell_type": "code",
      "metadata": {
        "id": "ClIny1cOrz6M",
        "colab_type": "code",
        "colab": {
          "base_uri": "https://localhost:8080/",
          "height": 85
        },
        "outputId": "b20312b9-de02-41a7-96a0-ddcdc1ff57b2"
      },
      "source": [
        "#Degree matrix\n",
        "D = np.array(np.sum(A, axis=0))[0]\n",
        "D = np.matrix(np.diag(D))\n",
        "D"
      ],
      "execution_count": 14,
      "outputs": [
        {
          "output_type": "execute_result",
          "data": {
            "text/plain": [
              "matrix([[1., 0., 0., 0.],\n",
              "        [0., 2., 0., 0.],\n",
              "        [0., 0., 2., 0.],\n",
              "        [0., 0., 0., 1.]])"
            ]
          },
          "metadata": {
            "tags": []
          },
          "execution_count": 14
        }
      ]
    },
    {
      "cell_type": "code",
      "metadata": {
        "id": "-laOD9eoskOp",
        "colab_type": "code",
        "colab": {
          "base_uri": "https://localhost:8080/",
          "height": 85
        },
        "outputId": "946b439b-b1a5-41b7-9fc6-548f030901e6"
      },
      "source": [
        "#Normalizing the feature representations\n",
        "D**-1 * A"
      ],
      "execution_count": 17,
      "outputs": [
        {
          "output_type": "execute_result",
          "data": {
            "text/plain": [
              "matrix([[0. , 1. , 0. , 0. ],\n",
              "        [0. , 0. , 0.5, 0.5],\n",
              "        [0. , 0.5, 0. , 0. ],\n",
              "        [1. , 0. , 1. , 0. ]])"
            ]
          },
          "metadata": {
            "tags": []
          },
          "execution_count": 17
        }
      ]
    },
    {
      "cell_type": "code",
      "metadata": {
        "id": "NJGfPnegtIEq",
        "colab_type": "code",
        "colab": {
          "base_uri": "https://localhost:8080/",
          "height": 85
        },
        "outputId": "56b55338-ba91-4acc-e6fc-7e3e986ce8f5"
      },
      "source": [
        "#Propogation rule with the transformed adjacency matrix\n",
        "D**-1 * A * X"
      ],
      "execution_count": 18,
      "outputs": [
        {
          "output_type": "execute_result",
          "data": {
            "text/plain": [
              "matrix([[ 1. , -1. ],\n",
              "        [ 2.5, -2.5],\n",
              "        [ 0.5, -0.5],\n",
              "        [ 2. , -2. ]])"
            ]
          },
          "metadata": {
            "tags": []
          },
          "execution_count": 18
        }
      ]
    },
    {
      "cell_type": "code",
      "metadata": {
        "id": "xLk2KB8etS3t",
        "colab_type": "code",
        "colab": {}
      },
      "source": [
        "W = np.matrix([\n",
        "             [1, -1],\n",
        "             [-1, 1]])"
      ],
      "execution_count": 0,
      "outputs": []
    },
    {
      "cell_type": "code",
      "metadata": {
        "id": "5HIgihwhtzn4",
        "colab_type": "code",
        "colab": {
          "base_uri": "https://localhost:8080/",
          "height": 85
        },
        "outputId": "0b21582e-26f7-43bf-bd62-9a55dd3d6283"
      },
      "source": [
        "#Degree matrix\n",
        "D_hat = np.array(np.sum(A_hat, axis=0))[0]\n",
        "D_hat = np.matrix(np.diag(D_hat))\n",
        "D_hat"
      ],
      "execution_count": 22,
      "outputs": [
        {
          "output_type": "execute_result",
          "data": {
            "text/plain": [
              "matrix([[2., 0., 0., 0.],\n",
              "        [0., 3., 0., 0.],\n",
              "        [0., 0., 3., 0.],\n",
              "        [0., 0., 0., 2.]])"
            ]
          },
          "metadata": {
            "tags": []
          },
          "execution_count": 22
        }
      ]
    },
    {
      "cell_type": "code",
      "metadata": {
        "id": "hUN8E_BbtcS9",
        "colab_type": "code",
        "colab": {
          "base_uri": "https://localhost:8080/",
          "height": 85
        },
        "outputId": "064b4268-4b50-4438-fe69-fc9ff7b930e4"
      },
      "source": [
        "#Adding the weights\n",
        "D_hat**-1 * A_hat * X * W"
      ],
      "execution_count": 23,
      "outputs": [
        {
          "output_type": "execute_result",
          "data": {
            "text/plain": [
              "matrix([[ 1., -1.],\n",
              "        [ 4., -4.],\n",
              "        [ 2., -2.],\n",
              "        [ 5., -5.]])"
            ]
          },
          "metadata": {
            "tags": []
          },
          "execution_count": 23
        }
      ]
    },
    {
      "cell_type": "code",
      "metadata": {
        "id": "1jcyc41_xN27",
        "colab_type": "code",
        "colab": {
          "base_uri": "https://localhost:8080/",
          "height": 85
        },
        "outputId": "75ce1432-9f28-4801-e0ae-2f1d27b36a9a"
      },
      "source": [
        "#Degree matrix\n",
        "D_hat = np.array(np.sum(A_hat, axis=0))[0]\n",
        "D_hat = np.matrix(np.diag(D_hat**-0.5))\n",
        "D_hat"
      ],
      "execution_count": 29,
      "outputs": [
        {
          "output_type": "execute_result",
          "data": {
            "text/plain": [
              "matrix([[0.70710678, 0.        , 0.        , 0.        ],\n",
              "        [0.        , 0.57735027, 0.        , 0.        ],\n",
              "        [0.        , 0.        , 0.57735027, 0.        ],\n",
              "        [0.        , 0.        , 0.        , 0.70710678]])"
            ]
          },
          "metadata": {
            "tags": []
          },
          "execution_count": 29
        }
      ]
    },
    {
      "cell_type": "code",
      "metadata": {
        "id": "Unv-ZxTzvLO6",
        "colab_type": "code",
        "colab": {
          "base_uri": "https://localhost:8080/",
          "height": 85
        },
        "outputId": "790c3cba-9f1f-4cc0-c14f-0b2ab970e190"
      },
      "source": [
        "#Spectral rule\n",
        "D_hat* A_hat * D_hat*X "
      ],
      "execution_count": 30,
      "outputs": [
        {
          "output_type": "execute_result",
          "data": {
            "text/plain": [
              "matrix([[ 0.40824829, -0.40824829],\n",
              "        [ 2.22474487, -2.22474487],\n",
              "        [ 1.        , -1.        ],\n",
              "        [ 2.31649658, -2.31649658]])"
            ]
          },
          "metadata": {
            "tags": []
          },
          "execution_count": 30
        }
      ]
    },
    {
      "cell_type": "code",
      "metadata": {
        "id": "S78bX90DxMPa",
        "colab_type": "code",
        "colab": {
          "base_uri": "https://localhost:8080/",
          "height": 85
        },
        "outputId": "5e0cf350-150e-4c5e-cf02-d68c682f4690"
      },
      "source": [
        "#Spectral rule\n",
        "D_hat* A_hat * D_hat*X*W "
      ],
      "execution_count": 31,
      "outputs": [
        {
          "output_type": "execute_result",
          "data": {
            "text/plain": [
              "matrix([[ 0.81649658, -0.81649658],\n",
              "        [ 4.44948974, -4.44948974],\n",
              "        [ 2.        , -2.        ],\n",
              "        [ 4.63299316, -4.63299316]])"
            ]
          },
          "metadata": {
            "tags": []
          },
          "execution_count": 31
        }
      ]
    }
  ]
}