{
  "nbformat": 4,
  "nbformat_minor": 0,
  "metadata": {
    "colab": {
      "name": "FB15K_KG.ipynb",
      "provenance": [],
      "collapsed_sections": []
    },
    "kernelspec": {
      "name": "python3",
      "display_name": "Python 3"
    },
    "accelerator": "GPU"
  },
  "cells": [
    {
      "cell_type": "code",
      "metadata": {
        "id": "sxQPpFHvfFrb",
        "outputId": "de1cdffa-fc69-4247-b359-c6941b3a8d48",
        "colab": {
          "base_uri": "https://localhost:8080/",
          "height": 326
        }
      },
      "source": [
        "!pip install torch==1.5.1 torchvision==0.6.1"
      ],
      "execution_count": null,
      "outputs": [
        {
          "output_type": "stream",
          "text": [
            "Collecting torch==1.5.1\n",
            "\u001b[?25l  Downloading https://files.pythonhosted.org/packages/62/01/457b49d790b6c4b9720e6f9dbbb617692f6ce8afdaadf425c055c41a7416/torch-1.5.1-cp36-cp36m-manylinux1_x86_64.whl (753.2MB)\n",
            "\u001b[K     |████████████████████████████████| 753.2MB 14kB/s \n",
            "\u001b[?25hCollecting torchvision==0.6.1\n",
            "\u001b[?25l  Downloading https://files.pythonhosted.org/packages/9a/f1/535a407b4a265adf2dd7c2c2458217e37c5fe83ec97234e66c564592a9a0/torchvision-0.6.1-cp36-cp36m-manylinux1_x86_64.whl (6.6MB)\n",
            "\u001b[K     |████████████████████████████████| 6.6MB 55.5MB/s \n",
            "\u001b[?25hRequirement already satisfied: numpy in /usr/local/lib/python3.6/dist-packages (from torch==1.5.1) (1.18.5)\n",
            "Requirement already satisfied: future in /usr/local/lib/python3.6/dist-packages (from torch==1.5.1) (0.16.0)\n",
            "Requirement already satisfied: pillow>=4.1.1 in /usr/local/lib/python3.6/dist-packages (from torchvision==0.6.1) (7.0.0)\n",
            "Installing collected packages: torch, torchvision\n",
            "  Found existing installation: torch 1.6.0+cu101\n",
            "    Uninstalling torch-1.6.0+cu101:\n",
            "      Successfully uninstalled torch-1.6.0+cu101\n",
            "  Found existing installation: torchvision 0.7.0+cu101\n",
            "    Uninstalling torchvision-0.7.0+cu101:\n",
            "      Successfully uninstalled torchvision-0.7.0+cu101\n",
            "Successfully installed torch-1.5.1 torchvision-0.6.1\n"
          ],
          "name": "stdout"
        }
      ]
    },
    {
      "cell_type": "code",
      "metadata": {
        "id": "aEBwDfR4lxHV",
        "outputId": "22442458-05cc-4316-b42f-a01728da1193",
        "colab": {
          "base_uri": "https://localhost:8080/",
          "height": 394
        }
      },
      "source": [
        "!sudo pip3 install dgl==0.4.3\n",
        "!sudo pip3 install dglke"
      ],
      "execution_count": null,
      "outputs": [
        {
          "output_type": "stream",
          "text": [
            "Collecting dgl==0.4.3\n",
            "\u001b[?25l  Downloading https://files.pythonhosted.org/packages/9f/07/978ee25929b35e1e9c8165407683e3f4f1565a75f699a6da7cb48bf492d8/dgl-0.4.3-cp36-cp36m-manylinux1_x86_64.whl (3.0MB)\n",
            "\u001b[K     |████████████████████████████████| 3.0MB 6.3MB/s \n",
            "\u001b[?25hRequirement already satisfied: numpy>=1.14.0 in /usr/local/lib/python3.6/dist-packages (from dgl==0.4.3) (1.18.5)\n",
            "Requirement already satisfied: scipy>=1.1.0 in /usr/local/lib/python3.6/dist-packages (from dgl==0.4.3) (1.4.1)\n",
            "Requirement already satisfied: networkx>=2.1 in /usr/local/lib/python3.6/dist-packages (from dgl==0.4.3) (2.5)\n",
            "Requirement already satisfied: requests>=2.19.0 in /usr/local/lib/python3.6/dist-packages (from dgl==0.4.3) (2.23.0)\n",
            "Requirement already satisfied: decorator>=4.3.0 in /usr/local/lib/python3.6/dist-packages (from networkx>=2.1->dgl==0.4.3) (4.4.2)\n",
            "Requirement already satisfied: urllib3!=1.25.0,!=1.25.1,<1.26,>=1.21.1 in /usr/local/lib/python3.6/dist-packages (from requests>=2.19.0->dgl==0.4.3) (1.24.3)\n",
            "Requirement already satisfied: chardet<4,>=3.0.2 in /usr/local/lib/python3.6/dist-packages (from requests>=2.19.0->dgl==0.4.3) (3.0.4)\n",
            "Requirement already satisfied: certifi>=2017.4.17 in /usr/local/lib/python3.6/dist-packages (from requests>=2.19.0->dgl==0.4.3) (2020.6.20)\n",
            "Requirement already satisfied: idna<3,>=2.5 in /usr/local/lib/python3.6/dist-packages (from requests>=2.19.0->dgl==0.4.3) (2.10)\n",
            "Installing collected packages: dgl\n",
            "Successfully installed dgl-0.4.3\n",
            "Collecting dglke\n",
            "\u001b[?25l  Downloading https://files.pythonhosted.org/packages/06/24/3a0398e06bf1bf0b367ee5388a3643174361b7732a73d1385488be63ffb9/dglke-0.1.1-py3-none-any.whl (68kB)\n",
            "\u001b[K     |████████████████████████████████| 71kB 3.1MB/s \n",
            "\u001b[?25hRequirement already satisfied: setuptools in /usr/local/lib/python3.6/dist-packages (from dglke) (50.3.0)\n",
            "Requirement already satisfied: numpy in /usr/local/lib/python3.6/dist-packages (from dglke) (1.18.5)\n",
            "Installing collected packages: dglke\n",
            "Successfully installed dglke-0.1.1\n"
          ],
          "name": "stdout"
        }
      ]
    },
    {
      "cell_type": "code",
      "metadata": {
        "id": "YyNNt15Bl9Vj",
        "outputId": "34794c39-2229-49fe-95f3-6f937b97020e",
        "colab": {
          "base_uri": "https://localhost:8080/",
          "height": 1000
        }
      },
      "source": [
        "!DGLBACKEND=pytorch dglke_train --model_name TransE_l2 --dataset FB15k --batch_size 1000 \\\n",
        "--neg_sample_size 200 --hidden_dim 400 --gamma 19.9 --lr 0.25 --max_step 500 --log_interval 100 \\\n",
        "--batch_size_eval 16 -adv --regularization_coef 1.00E-09 --test --num_thread 1 --num_proc 8"
      ],
      "execution_count": null,
      "outputs": [
        {
          "output_type": "stream",
          "text": [
            "File not found. Downloading from https://data.dgl.ai/dataset/FB15k.zip\n",
            "Download finished. Unzipping the file...\n",
            "Unzip finished.\n",
            "Reading train triples....\n",
            "Finished. Read 483142 train triples.\n",
            "Reading valid triples....\n",
            "Finished. Read 50000 valid triples.\n",
            "Reading test triples....\n",
            "Finished. Read 59071 test triples.\n",
            "|Train|: 483142\n",
            "random partition 483142 edges into 8 parts\n",
            "part 0 has 60393 edges\n",
            "part 1 has 60393 edges\n",
            "part 2 has 60393 edges\n",
            "part 3 has 60393 edges\n",
            "part 4 has 60393 edges\n",
            "part 5 has 60393 edges\n",
            "part 6 has 60393 edges\n",
            "part 7 has 60391 edges\n",
            "/usr/local/lib/python3.6/dist-packages/dgl/base.py:25: UserWarning: multigraph will be deprecated.DGL will treat all graphs as multigraph in the future.\n",
            "  warnings.warn(msg, warn_type)\n",
            "|valid|: 50000\n",
            "|test|: 59071\n",
            "Total initialize time 1.712 seconds\n",
            "[proc 4][Train](100/500) average pos_loss: 1.0196489372849464\n",
            "[proc 4][Train](100/500) average neg_loss: 1.128920047879219\n",
            "[proc 4][Train](100/500) average loss: 1.0742844912409781\n",
            "[proc 4][Train](100/500) average regularization: 0.0008711812354917825\n",
            "[proc 4][Train] 100 steps take 42.353 seconds\n",
            "[proc 4]sample: 1.538, forward: 26.527, backward: 12.986, update: 1.288\n",
            "[proc 5][Train](100/500) average pos_loss: 1.1101007929444313\n",
            "[proc 5][Train](100/500) average neg_loss: 1.1403123179078103\n",
            "[proc 5][Train](100/500) average loss: 1.1252065515518188\n",
            "[proc 5][Train](100/500) average regularization: 0.0008866377345879428\n",
            "[proc 5][Train] 100 steps take 43.009 seconds\n",
            "[proc 5]sample: 1.630, forward: 26.775, backward: 13.269, update: 1.325\n",
            "[proc 6][Train](100/500) average pos_loss: 0.9976129737496376\n",
            "[proc 6][Train](100/500) average neg_loss: 1.1580696707963944\n",
            "[proc 6][Train](100/500) average loss: 1.077841318845749\n",
            "[proc 6][Train](100/500) average regularization: 0.0008866341219071216\n",
            "[proc 6][Train] 100 steps take 43.054 seconds\n",
            "[proc 6]sample: 1.710, forward: 26.416, backward: 13.507, update: 1.409\n",
            "[proc 1][Train](100/500) average pos_loss: 1.0541422694921494\n",
            "[proc 1][Train](100/500) average neg_loss: 1.1603849697113038\n",
            "[proc 1][Train](100/500) average loss: 1.1072636210918427\n",
            "[proc 1][Train](100/500) average regularization: 0.0008638891719931507\n",
            "[proc 1][Train] 100 steps take 43.102 seconds\n",
            "[proc 1]sample: 1.669, forward: 26.773, backward: 13.270, update: 1.389\n",
            "[proc 3][Train](100/500) average pos_loss: 1.1393771570920945\n",
            "[proc 3][Train](100/500) average neg_loss: 1.1509324288368226\n",
            "[proc 3][Train](100/500) average loss: 1.1451547953486443\n",
            "[proc 3][Train](100/500) average regularization: 0.0009089659519507264\n",
            "[proc 3][Train] 100 steps take 43.218 seconds\n",
            "[proc 3]sample: 1.639, forward: 27.147, backward: 13.084, update: 1.346\n",
            "[proc 7][Train](100/500) average pos_loss: 1.01325230717659\n",
            "[proc 7][Train](100/500) average neg_loss: 1.1275573107600212\n",
            "[proc 7][Train](100/500) average loss: 1.0704048079252244\n",
            "[proc 7][Train](100/500) average regularization: 0.0008986789973048204\n",
            "[proc 7][Train] 100 steps take 44.003 seconds\n",
            "[proc 7]sample: 1.658, forward: 26.931, backward: 14.002, update: 1.411\n",
            "[proc 2][Train](100/500) average pos_loss: 1.0039741146564483\n",
            "[proc 2][Train](100/500) average neg_loss: 1.1274728286266327\n",
            "[proc 2][Train](100/500) average loss: 1.0657234707474708\n",
            "[proc 2][Train](100/500) average regularization: 0.0008892824541223021\n",
            "[proc 2][Train] 100 steps take 44.285 seconds\n",
            "[proc 2]sample: 1.671, forward: 27.512, backward: 13.790, update: 1.301\n",
            "[proc 0][Train](100/500) average pos_loss: 0.8594294282793998\n",
            "[proc 0][Train](100/500) average neg_loss: 1.1507928884029388\n",
            "[proc 0][Train](100/500) average loss: 1.005111157298088\n",
            "[proc 0][Train](100/500) average regularization: 0.0008109593642794976\n",
            "[proc 0][Train] 100 steps take 44.540 seconds\n",
            "[proc 0]sample: 1.567, forward: 27.311, backward: 14.215, update: 1.444\n",
            "[proc 6][Train](200/500) average pos_loss: 0.33189705938100816\n",
            "[proc 6][Train](200/500) average neg_loss: 0.46314202129840853\n",
            "[proc 6][Train](200/500) average loss: 0.39751953959465025\n",
            "[proc 6][Train](200/500) average regularization: 0.0010459137544967234\n",
            "[proc 6][Train] 100 steps take 42.329 seconds\n",
            "[proc 6]sample: 1.531, forward: 26.316, backward: 13.049, update: 1.431\n",
            "[proc 3][Train](200/500) average pos_loss: 0.3323625069856644\n",
            "[proc 3][Train](200/500) average neg_loss: 0.46189914405345917\n",
            "[proc 3][Train](200/500) average loss: 0.39713082551956175\n",
            "[proc 3][Train](200/500) average regularization: 0.0010459596529835836\n",
            "[proc 3][Train] 100 steps take 42.462 seconds\n",
            "[proc 3]sample: 1.434, forward: 26.266, backward: 13.268, update: 1.494\n",
            "[proc 5][Train](200/500) average pos_loss: 0.33129920542240143\n",
            "[proc 5][Train](200/500) average neg_loss: 0.462040930390358\n",
            "[proc 5][Train](200/500) average loss: 0.3966700679063797\n",
            "[proc 5][Train](200/500) average regularization: 0.0010472453641705215\n",
            "[proc 5][Train] 100 steps take 42.826 seconds\n",
            "[proc 5]sample: 1.536, forward: 26.577, backward: 13.278, update: 1.416\n",
            "[proc 1][Train](200/500) average pos_loss: 0.33233136832714083\n",
            "[proc 1][Train](200/500) average neg_loss: 0.46080114752054213\n",
            "[proc 1][Train](200/500) average loss: 0.39656625866889955\n",
            "[proc 1][Train](200/500) average regularization: 0.0010467239917488769\n",
            "[proc 1][Train] 100 steps take 42.919 seconds\n",
            "[proc 1]sample: 1.517, forward: 26.402, backward: 13.567, update: 1.428\n",
            "[proc 7][Train](200/500) average pos_loss: 0.33170918822288514\n",
            "[proc 7][Train](200/500) average neg_loss: 0.4622261679172516\n",
            "[proc 7][Train](200/500) average loss: 0.3969676801562309\n",
            "[proc 7][Train](200/500) average regularization: 0.0010506636468926446\n",
            "[proc 7][Train] 100 steps take 42.088 seconds\n",
            "[proc 7]sample: 1.492, forward: 26.286, backward: 12.890, update: 1.387\n",
            "[proc 4][Train](200/500) average pos_loss: 0.32994856804609296\n",
            "[proc 4][Train](200/500) average neg_loss: 0.46216400146484377\n",
            "[proc 4][Train](200/500) average loss: 0.39605628460645675\n",
            "[proc 4][Train](200/500) average regularization: 0.0010464990726904945\n",
            "[proc 4][Train] 100 steps take 43.987 seconds\n",
            "[proc 4]sample: 1.533, forward: 26.928, backward: 14.043, update: 1.482\n",
            "[proc 0][Train](200/500) average pos_loss: 0.3344601860642433\n",
            "[proc 0][Train](200/500) average neg_loss: 0.45421114057302475\n",
            "[proc 0][Train](200/500) average loss: 0.3943356636166573\n",
            "[proc 0][Train](200/500) average regularization: 0.0010537283902522176\n",
            "[proc 0][Train] 100 steps take 42.577 seconds\n",
            "[proc 0]sample: 1.383, forward: 26.609, backward: 13.156, update: 1.428\n",
            "[proc 2][Train](200/500) average pos_loss: 0.33109385401010516\n",
            "[proc 2][Train](200/500) average neg_loss: 0.4617390066385269\n",
            "[proc 2][Train](200/500) average loss: 0.3964164319634438\n",
            "[proc 2][Train](200/500) average regularization: 0.0010510069254087283\n",
            "[proc 2][Train] 100 steps take 43.211 seconds\n",
            "[proc 2]sample: 1.474, forward: 27.019, backward: 13.154, update: 1.554\n",
            "[proc 6][Train](300/500) average pos_loss: 0.29902788132429126\n",
            "[proc 6][Train](300/500) average neg_loss: 0.4299206775426865\n",
            "[proc 6][Train](300/500) average loss: 0.36447428226470946\n",
            "[proc 6][Train](300/500) average regularization: 0.0011605607974343002\n",
            "[proc 6][Train] 100 steps take 40.935 seconds\n",
            "[proc 6]sample: 1.622, forward: 25.195, backward: 12.652, update: 1.453\n",
            "[proc 3][Train](300/500) average pos_loss: 0.30171825528144836\n",
            "[proc 3][Train](300/500) average neg_loss: 0.4241489490866661\n",
            "[proc 3][Train](300/500) average loss: 0.36293360233306887\n",
            "[proc 3][Train](300/500) average regularization: 0.0011637163977138698\n",
            "[proc 3][Train] 100 steps take 42.017 seconds\n",
            "[proc 3]sample: 1.489, forward: 26.086, backward: 13.057, update: 1.368\n",
            "[proc 1][Train](300/500) average pos_loss: 0.3012892797589302\n",
            "[proc 1][Train](300/500) average neg_loss: 0.4333729657530785\n",
            "[proc 1][Train](300/500) average loss: 0.3673311224579811\n",
            "[proc 1][Train](300/500) average regularization: 0.001161961160833016\n",
            "[proc 1][Train] 100 steps take 42.264 seconds\n",
            "[proc 1]sample: 1.397, forward: 26.264, backward: 13.273, update: 1.319\n",
            "[proc 7][Train](300/500) average pos_loss: 0.299221847653389\n",
            "[proc 7][Train](300/500) average neg_loss: 0.430204259455204\n",
            "[proc 7][Train](300/500) average loss: 0.36471305280923844\n",
            "[proc 7][Train](300/500) average regularization: 0.001165923933731392\n",
            "[proc 7][Train] 100 steps take 42.149 seconds\n",
            "[proc 7]sample: 1.647, forward: 25.907, backward: 13.110, update: 1.483\n",
            "[proc 5][Train](300/500) average pos_loss: 0.30086794137954714\n",
            "[proc 5][Train](300/500) average neg_loss: 0.4238465479016304\n",
            "[proc 5][Train](300/500) average loss: 0.36235724508762357\n",
            "[proc 5][Train](300/500) average regularization: 0.0011662417429033666\n",
            "[proc 5][Train] 100 steps take 42.921 seconds\n",
            "[proc 5]sample: 1.612, forward: 26.782, backward: 13.197, update: 1.316\n",
            "[proc 4][Train](300/500) average pos_loss: 0.2999138051271439\n",
            "[proc 4][Train](300/500) average neg_loss: 0.42941184431314466\n",
            "[proc 4][Train](300/500) average loss: 0.3646628239750862\n",
            "[proc 4][Train](300/500) average regularization: 0.0011653280421160162\n",
            "[proc 4][Train] 100 steps take 42.529 seconds\n",
            "[proc 4]sample: 1.400, forward: 26.247, backward: 13.476, update: 1.404\n",
            "[proc 0][Train](300/500) average pos_loss: 0.30142578661441805\n",
            "[proc 0][Train](300/500) average neg_loss: 0.4296975266933441\n",
            "[proc 0][Train](300/500) average loss: 0.3655616575479507\n",
            "[proc 0][Train](300/500) average regularization: 0.0011675194359850138\n",
            "[proc 0][Train] 100 steps take 41.880 seconds\n",
            "[proc 0]sample: 1.364, forward: 26.305, backward: 12.757, update: 1.452\n",
            "[proc 2][Train](300/500) average pos_loss: 0.30169987708330154\n",
            "[proc 2][Train](300/500) average neg_loss: 0.428487673997879\n",
            "[proc 2][Train](300/500) average loss: 0.36509377539157867\n",
            "[proc 2][Train](300/500) average regularization: 0.0011674737033899873\n",
            "[proc 2][Train] 100 steps take 42.368 seconds\n",
            "[proc 2]sample: 1.709, forward: 26.166, backward: 13.075, update: 1.402\n",
            "[proc 6][Train](400/500) average pos_loss: 0.2885473069548607\n",
            "[proc 6][Train](400/500) average neg_loss: 0.42008442521095274\n",
            "[proc 6][Train](400/500) average loss: 0.35431586623191835\n",
            "[proc 6][Train](400/500) average regularization: 0.0012425548571627586\n",
            "[proc 6][Train] 100 steps take 42.710 seconds\n",
            "[proc 6]sample: 1.478, forward: 26.188, backward: 13.648, update: 1.395\n",
            "[proc 4][Train](400/500) average pos_loss: 0.2894428730010986\n",
            "[proc 4][Train](400/500) average neg_loss: 0.4146011209487915\n",
            "[proc 4][Train](400/500) average loss: 0.3520219975709915\n",
            "[proc 4][Train](400/500) average regularization: 0.0012459138175472616\n",
            "[proc 4][Train] 100 steps take 40.948 seconds\n",
            "[proc 4]sample: 1.679, forward: 25.040, backward: 12.806, update: 1.409\n",
            "[proc 7][Train](400/500) average pos_loss: 0.28867621928453446\n",
            "[proc 1][Train](400/500) average pos_loss: 0.28900086373090744\n",
            "[proc 7][Train](400/500) average neg_loss: 0.4181737887859345\n",
            "[proc 7][Train](400/500) average loss: 0.35342500507831576\n",
            "[proc 7][Train](400/500) average regularization: 0.001246814599726349\n",
            "[proc 7][Train] 100 steps take 41.921 seconds\n",
            "[proc 7]sample: 1.370, forward: 26.159, backward: 13.013, update: 1.367\n",
            "[proc 1][Train](400/500) average neg_loss: 0.41787852615118026\n",
            "[proc 1][Train](400/500) average loss: 0.3534396952390671\n",
            "[proc 1][Train](400/500) average regularization: 0.0012437954277265816\n",
            "[proc 1][Train] 100 steps take 41.939 seconds\n",
            "[proc 1]sample: 1.746, forward: 25.883, backward: 12.885, update: 1.413\n",
            "[proc 3][Train](400/500) average pos_loss: 0.28992335975170136\n",
            "[proc 3][Train](400/500) average neg_loss: 0.4149124252796173\n",
            "[proc 3][Train](400/500) average loss: 0.3524178922176361\n",
            "[proc 3][Train](400/500) average regularization: 0.0012449498707428576\n",
            "[proc 3][Train] 100 steps take 42.908 seconds\n",
            "[proc 3]sample: 1.567, forward: 26.673, backward: 13.195, update: 1.464\n",
            "[proc 5][Train](400/500) average pos_loss: 0.28933280885219576\n",
            "[proc 5][Train](400/500) average neg_loss: 0.4156241551041603\n",
            "[proc 5][Train](400/500) average loss: 0.3524784818291664\n",
            "[proc 5][Train](400/500) average regularization: 0.0012463423027656972\n",
            "[proc 5][Train] 100 steps take 42.274 seconds\n",
            "[proc 5]sample: 1.456, forward: 26.324, backward: 13.000, update: 1.476\n",
            "[proc 2][Train](400/500) average pos_loss: 0.28808626651763913\n",
            "[proc 2][Train](400/500) average neg_loss: 0.41555809140205385\n",
            "[proc 2][Train](400/500) average loss: 0.3518221780657768\n",
            "[proc 2][Train](400/500) average regularization: 0.0012458530685398727\n",
            "[proc 2][Train] 100 steps take 41.729 seconds\n",
            "[proc 2]sample: 1.448, forward: 26.016, backward: 12.922, update: 1.333\n",
            "[proc 0][Train](400/500) average pos_loss: 0.28985866755247114\n",
            "[proc 0][Train](400/500) average neg_loss: 0.41671340227127074\n",
            "[proc 0][Train](400/500) average loss: 0.3532860350608826\n",
            "[proc 0][Train](400/500) average regularization: 0.0012484605691861362\n",
            "[proc 0][Train] 100 steps take 42.914 seconds\n",
            "[proc 0]sample: 1.587, forward: 26.601, backward: 13.217, update: 1.476\n",
            "[proc 6][Train](500/500) average pos_loss: 0.28416198879480364\n",
            "[proc 6][Train](500/500) average neg_loss: 0.4112965738773346\n",
            "[proc 6][Train](500/500) average loss: 0.34772928088903426\n",
            "[proc 6][Train](500/500) average regularization: 0.001307287566596642\n",
            "[proc 6][Train] 100 steps take 42.135 seconds\n",
            "[proc 6]sample: 1.483, forward: 26.238, backward: 13.067, update: 1.334\n",
            "proc 6 takes 211.164 seconds\n",
            "[proc 4][Train](500/500) average pos_loss: 0.28290030181407927\n",
            "[proc 4][Train](500/500) average neg_loss: 0.40936194390058517\n",
            "[proc 4][Train](500/500) average loss: 0.34613112330436707\n",
            "[proc 4][Train](500/500) average regularization: 0.00130861115292646\n",
            "[proc 4][Train] 100 steps take 41.572 seconds\n",
            "[proc 4]sample: 1.512, forward: 25.367, backward: 13.328, update: 1.357\n",
            "proc 4 takes 211.389 seconds\n",
            "[proc 3][Train](500/500) average pos_loss: 0.28453515708446503\n",
            "[proc 3][Train](500/500) average neg_loss: 0.412817519903183\n",
            "[proc 3][Train](500/500) average loss: 0.348676338493824\n",
            "[proc 3][Train](500/500) average regularization: 0.0013082713994663209\n",
            "[proc 3][Train] 100 steps take 41.095 seconds\n",
            "[proc 3]sample: 1.433, forward: 25.317, backward: 12.965, update: 1.362\n",
            "proc 3 takes 211.701 seconds\n",
            "[proc 1][Train](500/500) average pos_loss: 0.2836847266554832\n",
            "[proc 1][Train](500/500) average neg_loss: 0.4118457868695259\n",
            "[proc 1][Train](500/500) average loss: 0.3477652570605278\n",
            "[proc 1][Train](500/500) average regularization: 0.0013088673027232289\n",
            "[proc 1][Train] 100 steps take 41.555 seconds\n",
            "[proc 1]sample: 1.598, forward: 25.676, backward: 12.935, update: 1.344\n",
            "proc 1 takes 211.778 seconds\n",
            "[proc 5][Train](500/500) average pos_loss: 0.2839089515805244\n",
            "[proc 5][Train](500/500) average neg_loss: 0.4095852306485176\n",
            "[proc 5][Train](500/500) average loss: 0.34674709141254423\n",
            "[proc 5][Train](500/500) average regularization: 0.001311193723231554\n",
            "[proc 5][Train] 100 steps take 40.922 seconds\n",
            "[proc 5]sample: 1.684, forward: 25.282, backward: 12.555, update: 1.400\n",
            "proc 5 takes 211.952 seconds\n",
            "[proc 7][Train](500/500) average pos_loss: 0.284378308057785\n",
            "[proc 7][Train](500/500) average neg_loss: 0.41422378122806547\n",
            "[proc 7][Train](500/500) average loss: 0.3493010452389717\n",
            "[proc 7][Train](500/500) average regularization: 0.0013103875308297574\n",
            "[proc 7][Train] 100 steps take 41.891 seconds\n",
            "[proc 7]sample: 1.547, forward: 25.753, backward: 13.155, update: 1.436\n",
            "proc 7 takes 212.052 seconds\n",
            "[proc 0][Train](500/500) average pos_loss: 0.28651628881692887\n",
            "[proc 0][Train](500/500) average neg_loss: 0.4140593931078911\n",
            "[proc 0][Train](500/500) average loss: 0.35028784066438673\n",
            "[proc 0][Train](500/500) average regularization: 0.0013135427213273943\n",
            "[proc 0][Train] 100 steps take 40.475 seconds\n",
            "[proc 0]sample: 1.517, forward: 24.890, backward: 12.669, update: 1.398\n",
            "proc 0 takes 212.385 seconds\n",
            "[proc 2][Train](500/500) average pos_loss: 0.28432822436094285\n",
            "[proc 2][Train](500/500) average neg_loss: 0.41106564611196517\n",
            "[proc 2][Train](500/500) average loss: 0.34769693583250044\n",
            "[proc 2][Train](500/500) average regularization: 0.0013104499026667326\n",
            "[proc 2][Train] 100 steps take 40.812 seconds\n",
            "[proc 2]sample: 1.598, forward: 24.902, backward: 12.820, update: 1.481\n",
            "proc 2 takes 212.405 seconds\n",
            "training takes 212.45296788215637 seconds\n",
            "Save model to ckpts/TransE_l2_FB15k_0\n",
            "-------------- Test result --------------\n",
            "Test average MRR : 0.47595988183950516\n",
            "Test average MR : 58.77347598652469\n",
            "Test average HITS@1 : 0.2833031436745611\n",
            "Test average HITS@3 : 0.62686428196577\n",
            "Test average HITS@10 : 0.7764300587428687\n",
            "-----------------------------------------\n",
            "testing takes 260.210 seconds\n"
          ],
          "name": "stdout"
        }
      ]
    },
    {
      "cell_type": "code",
      "metadata": {
        "id": "bVvsymWdqhHM",
        "outputId": "372ff850-d4b1-408f-e407-168e7d34e72b",
        "colab": {
          "base_uri": "https://localhost:8080/",
          "height": 343
        }
      },
      "source": [
        "!DGLBACKEND=pytorch dglke_eval --model_name TransE_l2 --dataset FB15k --hidden_dim 400 --gamma 19.9 --batch_size_eval 16 \\\n",
        "--num_thread 1 --num_proc 8 --model_path '/content/ckpts/TransE_l2_FB15k_0'"
      ],
      "execution_count": null,
      "outputs": [
        {
          "output_type": "stream",
          "text": [
            "Reading train triples....\n",
            "Finished. Read 483142 train triples.\n",
            "Reading valid triples....\n",
            "Finished. Read 50000 valid triples.\n",
            "Reading test triples....\n",
            "Finished. Read 59071 test triples.\n",
            "/usr/local/lib/python3.6/dist-packages/dgl/base.py:25: UserWarning: multigraph will be deprecated.DGL will treat all graphs as multigraph in the future.\n",
            "  warnings.warn(msg, warn_type)\n",
            "|valid|: 50000\n",
            "|test|: 59071\n",
            "-------------- Test result --------------\n",
            "Test average MRR: 0.4676497441605644\n",
            "Test average MR: 59.08168983088148\n",
            "Test average HITS@1: 0.27274804895803356\n",
            "Test average HITS@3: 0.6211254253356131\n",
            "Test average HITS@10: 0.7709282050413909\n",
            "-----------------------------------------\n",
            "Test takes 330.937 seconds\n"
          ],
          "name": "stdout"
        }
      ]
    },
    {
      "cell_type": "code",
      "metadata": {
        "id": "hvS-LSQ9sRsC",
        "outputId": "50a54ac7-efed-490f-b1af-e3582b1f7e8f",
        "colab": {
          "base_uri": "https://localhost:8080/",
          "height": 122
        }
      },
      "source": [
        "# Using PyTorch Backend\n",
        "!DGLBACKEND=pytorch dglke_predict --model_path '/content/ckpts/TransE_l2_FB15k_0' --format 'h_r_t' --data_files '/content/drive/My Drive/Amazon ml/head.txt' '/content/drive/My Drive/Amazon ml/relation.txt' '/content/drive/My Drive/Amazon ml/tail.txt' --score_func logsigmoid --topK 5 --exec_mode 'batch_head'\n"
      ],
      "execution_count": null,
      "outputs": [
        {
          "output_type": "stream",
          "text": [
            "/content/ckpts/TransE_l2_FB15k_0/config.json\n",
            "{'dataset': 'FB15k', 'model': 'TransE_l2', 'emb_size': 400, 'max_train_step': 500, 'batch_size': 1000, 'neg_sample_size': 200, 'lr': 0.25, 'gamma': 19.9, 'double_ent': False, 'double_rel': False, 'neg_adversarial_sampling': True, 'adversarial_temperature': 1.0, 'regularization_coef': 1e-09, 'regularization_norm': 3, 'emap_file': 'entities.dict', 'rmap_file': 'relations.dict'}\n",
            "/pytorch/aten/src/ATen/native/BinaryOps.cpp:81: UserWarning: Integer division of tensors using div or / is deprecated, and in a future release div will perform true division as in Python 3. Use true_divide or floor_divide (// in Python) instead.\n",
            "Inference Done\n",
            "The result is saved in result.tsv\n"
          ],
          "name": "stdout"
        }
      ]
    },
    {
      "cell_type": "code",
      "metadata": {
        "id": "ZSn3HQX5yG2U",
        "outputId": "fba6b78d-0965-47eb-c3a4-2216b8387f16",
        "colab": {
          "base_uri": "https://localhost:8080/",
          "height": 88
        }
      },
      "source": [
        "# Using PyTorch Backend\n",
        "!DGLBACKEND=pytorch dglke_emb_sim --emb_file '/content/ckpts/TransE_l2_FB15k_0/FB15k_TransE_l2_entity.npy'  --format 'l_r' --data_files '/content/drive/My Drive/Amazon ml/head.txt' '/content/drive/My Drive/Amazon ml/tail.txt'  --topK 5"
      ],
      "execution_count": null,
      "outputs": [
        {
          "output_type": "stream",
          "text": [
            "/pytorch/aten/src/ATen/native/BinaryOps.cpp:81: UserWarning: Integer division of tensors using div or / is deprecated, and in a future release div will perform true division as in Python 3. Use true_divide or floor_divide (// in Python) instead.\n",
            "Inference Done\n",
            "The result is saved in result.tsv\n"
          ],
          "name": "stdout"
        }
      ]
    },
    {
      "cell_type": "code",
      "metadata": {
        "id": "0yFDx3J8jF5E",
        "outputId": "2ae1dab2-70d2-4528-f49a-736e707c51d0",
        "colab": {
          "base_uri": "https://localhost:8080/",
          "height": 88
        }
      },
      "source": [
        "# Using PyTorch Backend\n",
        "!DGLBACKEND=pytorch dglke_emb_sim --emb_file '/content/ckpts/TransE_l2_FB15k_0/FB15k_TransE_l2_entity.npy' \\\n",
        "--format 'l_*' --data_files '/content/drive/My Drive/Amazon ml/headlist.txt' \\\n",
        "--topK 6"
      ],
      "execution_count": null,
      "outputs": [
        {
          "output_type": "stream",
          "text": [
            "/pytorch/aten/src/ATen/native/BinaryOps.cpp:81: UserWarning: Integer division of tensors using div or / is deprecated, and in a future release div will perform true division as in Python 3. Use true_divide or floor_divide (// in Python) instead.\n",
            "Inference Done\n",
            "The result is saved in result.tsv\n"
          ],
          "name": "stdout"
        }
      ]
    },
    {
      "cell_type": "code",
      "metadata": {
        "id": "FPfdbvXLoK9J",
        "outputId": "8ef8fe15-9840-4dbf-e19e-e37a973abafd",
        "colab": {
          "base_uri": "https://localhost:8080/",
          "height": 136
        }
      },
      "source": [
        "!cat result.tsv"
      ],
      "execution_count": null,
      "outputs": [
        {
          "output_type": "stream",
          "text": [
            "left\tright\tscore\n",
            "4502\t4502\t1.000000238418579\n",
            "4502\t721\t0.5325959324836731\n",
            "4502\t14672\t0.5147929191589355\n",
            "4502\t11257\t0.48019787669181824\n",
            "4502\t2809\t0.4345231354236603\n",
            "4502\t10372\t0.43354639410972595\n"
          ],
          "name": "stdout"
        }
      ]
    }
  ]
}