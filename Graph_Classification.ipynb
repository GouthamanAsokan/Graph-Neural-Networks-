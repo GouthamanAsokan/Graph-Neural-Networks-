{
  "nbformat": 4,
  "nbformat_minor": 0,
  "metadata": {
    "colab": {
      "name": "Graph_Classification.ipynb",
      "provenance": [],
      "collapsed_sections": []
    },
    "kernelspec": {
      "name": "python3",
      "display_name": "Python 3"
    }
  },
  "cells": [
    {
      "cell_type": "code",
      "metadata": {
        "id": "JZUAb54Dh0Wu",
        "colab_type": "code",
        "colab": {
          "base_uri": "https://localhost:8080/",
          "height": 275
        },
        "outputId": "eb2f7b04-31e1-45a4-e2fa-508024a7b9a0"
      },
      "source": [
        "!pip install dgl"
      ],
      "execution_count": 1,
      "outputs": [
        {
          "output_type": "stream",
          "text": [
            "Collecting dgl\n",
            "\u001b[?25l  Downloading https://files.pythonhosted.org/packages/c5/b4/84e4ebd70ef3985181ef5d2d2a366a45af0e3cd18d249fb212ac03f683cf/dgl-0.4.3.post2-cp36-cp36m-manylinux1_x86_64.whl (3.0MB)\n",
            "\u001b[K     |████████████████████████████████| 3.0MB 8.4MB/s \n",
            "\u001b[?25hRequirement already satisfied: scipy>=1.1.0 in /usr/local/lib/python3.6/dist-packages (from dgl) (1.4.1)\n",
            "Requirement already satisfied: numpy>=1.14.0 in /usr/local/lib/python3.6/dist-packages (from dgl) (1.18.5)\n",
            "Requirement already satisfied: requests>=2.19.0 in /usr/local/lib/python3.6/dist-packages (from dgl) (2.23.0)\n",
            "Requirement already satisfied: networkx>=2.1 in /usr/local/lib/python3.6/dist-packages (from dgl) (2.4)\n",
            "Requirement already satisfied: chardet<4,>=3.0.2 in /usr/local/lib/python3.6/dist-packages (from requests>=2.19.0->dgl) (3.0.4)\n",
            "Requirement already satisfied: certifi>=2017.4.17 in /usr/local/lib/python3.6/dist-packages (from requests>=2.19.0->dgl) (2020.6.20)\n",
            "Requirement already satisfied: urllib3!=1.25.0,!=1.25.1,<1.26,>=1.21.1 in /usr/local/lib/python3.6/dist-packages (from requests>=2.19.0->dgl) (1.24.3)\n",
            "Requirement already satisfied: idna<3,>=2.5 in /usr/local/lib/python3.6/dist-packages (from requests>=2.19.0->dgl) (2.9)\n",
            "Requirement already satisfied: decorator>=4.3.0 in /usr/local/lib/python3.6/dist-packages (from networkx>=2.1->dgl) (4.4.2)\n",
            "Installing collected packages: dgl\n",
            "Successfully installed dgl-0.4.3.post2\n"
          ],
          "name": "stdout"
        }
      ]
    },
    {
      "cell_type": "code",
      "metadata": {
        "id": "d4y8uMTEia9z",
        "colab_type": "code",
        "colab": {
          "base_uri": "https://localhost:8080/",
          "height": 88
        },
        "outputId": "41b6db54-4d81-4857-9c64-57e2295b0f24"
      },
      "source": [
        "#Import the libraries\n",
        "from dgl.data import MiniGCDataset\n",
        "import matplotlib.pyplot as plt\n",
        "import networkx as nx"
      ],
      "execution_count": 2,
      "outputs": [
        {
          "output_type": "stream",
          "text": [
            "DGL backend not selected or invalid.  Assuming PyTorch for now.\n",
            "Using backend: pytorch\n"
          ],
          "name": "stderr"
        },
        {
          "output_type": "stream",
          "text": [
            "Setting the default backend to \"pytorch\". You can change it in the ~/.dgl/config.json file or export the DGLBACKEND environment variable.  Valid options are: pytorch, mxnet, tensorflow (all lowercase)\n"
          ],
          "name": "stdout"
        }
      ]
    },
    {
      "cell_type": "code",
      "metadata": {
        "id": "07rBuYMviiMm",
        "colab_type": "code",
        "colab": {
          "base_uri": "https://localhost:8080/",
          "height": 264
        },
        "outputId": "7084506a-8777-4325-947b-aef91f9ed3d3"
      },
      "source": [
        "# A dataset with 80 samples, each graph is\n",
        "# of size [10, 20]\n",
        "dataset = MiniGCDataset(80, 10, 20)\n",
        "graph, label = dataset[0]\n",
        "fig, ax = plt.subplots()\n",
        "nx.draw(graph.to_networkx(), ax=ax)\n",
        "ax.set_title('Class: {:d}'.format(label))\n",
        "plt.show()"
      ],
      "execution_count": 3,
      "outputs": [
        {
          "output_type": "display_data",
          "data": {
            "image/png": "[encoded data removed]",
            "text/plain": [
              "<Figure size 432x288 with 1 Axes>"
            ]
          },
          "metadata": {
            "tags": []
          }
        }
      ]
    },
    {
      "cell_type": "code",
      "metadata": {
        "id": "qDeWgKjDjBUo",
        "colab_type": "code",
        "colab": {}
      },
      "source": [
        "#Collate function to form mini batch\n",
        "import dgl\n",
        "import torch\n",
        "\n",
        "def collate(samples):\n",
        "    # The input `samples` is a list of pairs\n",
        "    #  (graph, label).\n",
        "    graphs, labels = map(list, zip(*samples))\n",
        "    batched_graph = dgl.batch(graphs)\n",
        "    return batched_graph, torch.tensor(labels)"
      ],
      "execution_count": 4,
      "outputs": []
    },
    {
      "cell_type": "code",
      "metadata": {
        "id": "YoghpRBmjzyc",
        "colab_type": "code",
        "colab": {}
      },
      "source": [
        "#Readout and classification\n",
        "from dgl.nn.pytorch import GraphConv\n",
        "import torch.nn as nn\n",
        "import torch.nn.functional as F\n",
        "\n",
        "class Classifier(nn.Module):\n",
        "    def __init__(self, in_dim, hidden_dim, n_classes):\n",
        "        super(Classifier, self).__init__()\n",
        "        self.conv1 = GraphConv(in_dim, hidden_dim)\n",
        "        self.conv2 = GraphConv(hidden_dim, hidden_dim)\n",
        "        self.classify = nn.Linear(hidden_dim, n_classes)\n",
        "\n",
        "    def forward(self, g):\n",
        "        # Use node degree as the initial node feature. For undirected graphs, the in-degree\n",
        "        # is the same as the out_degree.\n",
        "        h = g.in_degrees().view(-1, 1).float()\n",
        "        # Perform graph convolution and activation function.\n",
        "        h = F.relu(self.conv1(g, h))\n",
        "        h = F.relu(self.conv2(g, h))\n",
        "        g.ndata['h'] = h\n",
        "        # Calculate graph representation by averaging all the node representations.\n",
        "        hg = dgl.mean_nodes(g, 'h')\n",
        "        return self.classify(hg)"
      ],
      "execution_count": 5,
      "outputs": []
    },
    {
      "cell_type": "code",
      "metadata": {
        "id": "3VTnalJ_lFoM",
        "colab_type": "code",
        "colab": {
          "base_uri": "https://localhost:8080/",
          "height": 1000
        },
        "outputId": "671ee9fe-3135-48af-e612-2ef68686b948"
      },
      "source": [
        "#Training and Evaluation\n",
        "import torch.optim as optim\n",
        "from torch.utils.data import DataLoader\n",
        "\n",
        "# Create training and test sets.\n",
        "trainset = MiniGCDataset(320, 10, 20)\n",
        "testset = MiniGCDataset(80, 10, 20)\n",
        "# Use PyTorch's DataLoader and the collate function\n",
        "# defined before.\n",
        "data_loader = DataLoader(trainset, batch_size=32, shuffle=True,\n",
        "                         collate_fn=collate)\n",
        "\n",
        "# Create model\n",
        "model = Classifier(1, 256, trainset.num_classes)\n",
        "loss_func = nn.CrossEntropyLoss()\n",
        "optimizer = optim.Adam(model.parameters(), lr=0.001)\n",
        "model.train()\n",
        "\n",
        "epoch_losses = []\n",
        "for epoch in range(80):\n",
        "    epoch_loss = 0\n",
        "    for iter, (bg, label) in enumerate(data_loader):\n",
        "        prediction = model(bg)\n",
        "        loss = loss_func(prediction, label)\n",
        "        optimizer.zero_grad()\n",
        "        loss.backward()\n",
        "        optimizer.step()\n",
        "        epoch_loss += loss.detach().item()\n",
        "    epoch_loss /= (iter + 1)\n",
        "    print('Epoch {}, loss {:.4f}'.format(epoch, epoch_loss))\n",
        "    epoch_losses.append(epoch_loss)"
      ],
      "execution_count": 6,
      "outputs": [
        {
          "output_type": "stream",
          "text": [
            "Epoch 0, loss 2.0160\n",
            "Epoch 1, loss 1.9768\n",
            "Epoch 2, loss 1.9611\n",
            "Epoch 3, loss 1.9487\n",
            "Epoch 4, loss 1.9437\n",
            "Epoch 5, loss 1.9305\n",
            "Epoch 6, loss 1.9202\n",
            "Epoch 7, loss 1.9009\n",
            "Epoch 8, loss 1.8845\n",
            "Epoch 9, loss 1.8520\n",
            "Epoch 10, loss 1.8185\n",
            "Epoch 11, loss 1.7794\n",
            "Epoch 12, loss 1.7334\n",
            "Epoch 13, loss 1.6826\n",
            "Epoch 14, loss 1.6221\n",
            "Epoch 15, loss 1.5580\n",
            "Epoch 16, loss 1.4928\n",
            "Epoch 17, loss 1.4309\n",
            "Epoch 18, loss 1.3689\n",
            "Epoch 19, loss 1.3040\n",
            "Epoch 20, loss 1.2526\n",
            "Epoch 21, loss 1.2020\n",
            "Epoch 22, loss 1.1559\n",
            "Epoch 23, loss 1.1173\n",
            "Epoch 24, loss 1.0861\n",
            "Epoch 25, loss 1.0537\n",
            "Epoch 26, loss 1.0442\n",
            "Epoch 27, loss 1.0067\n",
            "Epoch 28, loss 0.9867\n",
            "Epoch 29, loss 0.9671\n",
            "Epoch 30, loss 0.9353\n",
            "Epoch 31, loss 0.9085\n",
            "Epoch 32, loss 0.8956\n",
            "Epoch 33, loss 0.8864\n",
            "Epoch 34, loss 0.8780\n",
            "Epoch 35, loss 0.8674\n",
            "Epoch 36, loss 0.8376\n",
            "Epoch 37, loss 0.8251\n",
            "Epoch 38, loss 0.8077\n",
            "Epoch 39, loss 0.8253\n",
            "Epoch 40, loss 0.8026\n",
            "Epoch 41, loss 0.7883\n",
            "Epoch 42, loss 0.7944\n",
            "Epoch 43, loss 0.7720\n",
            "Epoch 44, loss 0.7735\n",
            "Epoch 45, loss 0.7615\n",
            "Epoch 46, loss 0.7534\n",
            "Epoch 47, loss 0.7451\n",
            "Epoch 48, loss 0.7708\n",
            "Epoch 49, loss 0.7389\n",
            "Epoch 50, loss 0.7272\n",
            "Epoch 51, loss 0.7250\n",
            "Epoch 52, loss 0.7308\n",
            "Epoch 53, loss 0.7174\n",
            "Epoch 54, loss 0.7299\n",
            "Epoch 55, loss 0.7157\n",
            "Epoch 56, loss 0.7023\n",
            "Epoch 57, loss 0.7058\n",
            "Epoch 58, loss 0.7062\n",
            "Epoch 59, loss 0.7285\n",
            "Epoch 60, loss 0.7246\n",
            "Epoch 61, loss 0.7120\n",
            "Epoch 62, loss 0.7242\n",
            "Epoch 63, loss 0.6955\n",
            "Epoch 64, loss 0.6887\n",
            "Epoch 65, loss 0.6737\n",
            "Epoch 66, loss 0.6673\n",
            "Epoch 67, loss 0.6898\n",
            "Epoch 68, loss 0.6887\n",
            "Epoch 69, loss 0.6658\n",
            "Epoch 70, loss 0.6795\n",
            "Epoch 71, loss 0.6868\n",
            "Epoch 72, loss 0.6746\n",
            "Epoch 73, loss 0.6713\n",
            "Epoch 74, loss 0.6580\n",
            "Epoch 75, loss 0.6450\n",
            "Epoch 76, loss 0.6631\n",
            "Epoch 77, loss 0.6425\n",
            "Epoch 78, loss 0.6671\n",
            "Epoch 79, loss 0.6812\n"
          ],
          "name": "stdout"
        }
      ]
    },
    {
      "cell_type": "code",
      "metadata": {
        "id": "3Ozy7Kuolw__",
        "colab_type": "code",
        "colab": {
          "base_uri": "https://localhost:8080/",
          "height": 281
        },
        "outputId": "90243813-94f2-4933-e1ef-e1c084399b5b"
      },
      "source": [
        "#Cross Entropy over minibatches\n",
        "plt.title('cross entropy averaged over minibatches')\n",
        "plt.plot(epoch_losses)\n",
        "plt.show()"
      ],
      "execution_count": 7,
      "outputs": [
        {
          "output_type": "display_data",
          "data": {
            "image/png": "[encoded data removed]",
            "text/plain": [
              "<Figure size 432x288 with 1 Axes>"
            ]
          },
          "metadata": {
            "tags": [],
            "needs_background": "light"
          }
        }
      ]
    },
    {
      "cell_type": "code",
      "metadata": {
        "id": "2MxtSYB9l7Mx",
        "colab_type": "code",
        "colab": {
          "base_uri": "https://localhost:8080/",
          "height": 51
        },
        "outputId": "88f3e759-6a89-42dd-a681-769ddf5ca044"
      },
      "source": [
        "model.eval()\n",
        "# Convert a list of tuples to two lists\n",
        "test_X, test_Y = map(list, zip(*testset))\n",
        "test_bg = dgl.batch(test_X)\n",
        "test_Y = torch.tensor(test_Y).float().view(-1, 1)\n",
        "probs_Y = torch.softmax(model(test_bg), 1)\n",
        "sampled_Y = torch.multinomial(probs_Y, 1)\n",
        "argmax_Y = torch.max(probs_Y, 1)[1].view(-1, 1)\n",
        "print('Accuracy of sampled predictions on the test set: {:.4f}%'.format(\n",
        "    (test_Y == sampled_Y.float()).sum().item() / len(test_Y) * 100))\n",
        "print('Accuracy of argmax predictions on the test set: {:4f}%'.format(\n",
        "    (test_Y == argmax_Y.float()).sum().item() / len(test_Y) * 100))"
      ],
      "execution_count": 12,
      "outputs": [
        {
          "output_type": "stream",
          "text": [
            "Accuracy of sampled predictions on the test set: 63.7500%\n",
            "Accuracy of argmax predictions on the test set: 70.000000%\n"
          ],
          "name": "stdout"
        }
      ]
    }
  ]
}